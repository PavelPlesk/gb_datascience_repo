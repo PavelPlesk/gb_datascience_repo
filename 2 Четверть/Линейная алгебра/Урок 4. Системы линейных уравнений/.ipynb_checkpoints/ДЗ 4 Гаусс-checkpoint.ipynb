{
 "cells": [
  {
   "cell_type": "code",
   "execution_count": 39,
   "id": "322c5829",
   "metadata": {},
   "outputs": [],
   "source": [
    "import numpy as np"
   ]
  },
  {
   "cell_type": "markdown",
   "id": "b44f6393",
   "metadata": {
    "id": "cTVfl123ZS5O"
   },
   "source": [
    "__1.__ Решите систему уравнений методом Гаусса:\n",
    "\n",
    "$$\\begin{cases}\n",
    "x_{1}+x_{2}-x_{3}-2x_{4}=0, \\\\\n",
    "2x_{1}+x_{2}-x_{3}+x_{4}=-2, \\\\\n",
    "x_{1}+x_{2}-3x_{3}+x_{4}=4.\n",
    "\\end{cases}$$"
   ]
  },
  {
   "cell_type": "code",
   "execution_count": 40,
   "id": "9d8e820b",
   "metadata": {},
   "outputs": [
    {
     "name": "stdout",
     "output_type": "stream",
     "text": [
      "n = 4\n",
      "rankA =  3\n",
      "rankA_ =  3\n"
     ]
    }
   ],
   "source": [
    "A = np.array([[1, 1, -1, -2], [2, 1, -1, 1], [1, 1, -3, 4]])\n",
    "b = np.array([0, -2, 4])\n",
    "A_ = np.column_stack((A, b))\n",
    "\n",
    "print('n =', A.shape[1])\n",
    "print('rankA = ', np.linalg.matrix_rank(A))\n",
    "print('rankA_ = ', np.linalg.matrix_rank(A_))"
   ]
  },
  {
   "cell_type": "markdown",
   "id": "cac4cb30",
   "metadata": {},
   "source": [
    "Система имеет бесконечное количество решений"
   ]
  },
  {
   "cell_type": "markdown",
   "id": "b99353c2",
   "metadata": {},
   "source": [
    "Прямой проход:"
   ]
  },
  {
   "cell_type": "markdown",
   "id": "c6f8fb70",
   "metadata": {},
   "source": [
    "$\\tilde{A}=\\begin{pmatrix}\n",
    "\\left.\\begin{matrix}\n",
    "1 & 1 & -1 & -2\\\\ \n",
    "0 & -1 & 1 & 5\\\\ \n",
    "0 & 0 & -2 & 3\\\\ \n",
    "\\end{matrix}\\right|\n",
    "\\begin{matrix}\n",
    "0\\\\ \n",
    "-2\\\\\n",
    "4\\\\\n",
    "\\end{matrix}\n",
    "\\end{pmatrix}$"
   ]
  },
  {
   "cell_type": "markdown",
   "id": "8034069f",
   "metadata": {},
   "source": [
    "Обратный проход:"
   ]
  },
  {
   "cell_type": "markdown",
   "id": "7ec2efa0",
   "metadata": {},
   "source": [
    "$\\begin{cases}\n",
    "x4 = С \\\\\n",
    "x3 = -2 + 3/2C \\\\\n",
    "x2 = 2 - 2 + 3/2C + 5C = 13/2C \\\\\n",
    "x1 = -13/2C -2 + 3/2C + 2C  = -2 - 3C \n",
    "\\end{cases}$"
   ]
  },
  {
   "cell_type": "markdown",
   "id": "a8bca1e7",
   "metadata": {
    "id": "cTVfl123ZS5O"
   },
   "source": [
    "__2.__ Проверьте на совместность и выясните, сколько решений будет иметь система линейных уравнений:\n",
    "\n",
    "   а) $\\begin{cases}\n",
    "3x_{1}-x_{2}+x_{3}=4, \\\\\n",
    "2x_{1}-5x_{2}-3x_{3}=-17, \\\\\n",
    "x_{1}+x_{2}-x_{3}=0;\n",
    "\\end{cases}$\n",
    "    "
   ]
  },
  {
   "cell_type": "code",
   "execution_count": 41,
   "id": "c5056cd2",
   "metadata": {},
   "outputs": [
    {
     "name": "stdout",
     "output_type": "stream",
     "text": [
      "n = 3\n",
      "rankA =  3\n",
      "rankA_ =  3\n"
     ]
    }
   ],
   "source": [
    "A = np.array([[3, -1, 1], [2, -5, -3], [1, 1, -1]])\n",
    "b = np.array([4, -17, 0])\n",
    "A_ = np.column_stack((A, b))\n",
    "\n",
    "print('n =', A.shape[1])\n",
    "print('rankA = ', np.linalg.matrix_rank(A))\n",
    "print('rankA_ = ', np.linalg.matrix_rank(A_))"
   ]
  },
  {
   "cell_type": "markdown",
   "id": "86855939",
   "metadata": {},
   "source": [
    "Система совместна и имеет одно решение."
   ]
  },
  {
   "cell_type": "markdown",
   "id": "78106d74",
   "metadata": {
    "id": "cTVfl123ZS5O"
   },
   "source": [
    "   б) $\\begin{cases}\n",
    "2x_{1}-4x_{2}+6x_{3}=1, \\\\\n",
    "x_{1}-2x_{2}+3x_{3}=-2, \\\\\n",
    "3x_{1}-6x_{2}+9x_{3}=5;\n",
    "\\end{cases}$\n",
    "    "
   ]
  },
  {
   "cell_type": "code",
   "execution_count": 42,
   "id": "890a814c",
   "metadata": {},
   "outputs": [
    {
     "name": "stdout",
     "output_type": "stream",
     "text": [
      "n = 3\n",
      "rankA =  1\n",
      "rankA_ =  2\n"
     ]
    }
   ],
   "source": [
    "A = np.array([[2, -4, 6], [1, -2, 3], [3, -6, 9]])\n",
    "b = np.array([1, -2, 5])\n",
    "A_ = np.column_stack((A, b))\n",
    "\n",
    "print('n =', A.shape[1])\n",
    "print('rankA = ', np.linalg.matrix_rank(A))\n",
    "print('rankA_ = ', np.linalg.matrix_rank(A_))"
   ]
  },
  {
   "cell_type": "markdown",
   "id": "af08406d",
   "metadata": {},
   "source": [
    "Система несовместна - решений не имеет."
   ]
  },
  {
   "cell_type": "markdown",
   "id": "190f90f2",
   "metadata": {
    "id": "cTVfl123ZS5O"
   },
   "source": [
    "   в) $\\begin{cases}\n",
    "x_{1}+2x_{2}+5x_{3}=4, \\\\\n",
    "3x_{1}+x_{2}-8x_{3}=-2. \n",
    "\\end{cases}$"
   ]
  },
  {
   "cell_type": "code",
   "execution_count": 43,
   "id": "c8c14bcb",
   "metadata": {},
   "outputs": [
    {
     "name": "stdout",
     "output_type": "stream",
     "text": [
      "n = 3\n",
      "rankA =  2\n",
      "rankA_ =  2\n"
     ]
    }
   ],
   "source": [
    "A = np.array([[1, 2, 5], [3, 1, -8]])\n",
    "b = np.array([4, -2])\n",
    "A_ = np.column_stack((A, b))\n",
    "\n",
    "print('n =', A.shape[1])\n",
    "print('rankA = ', np.linalg.matrix_rank(A))\n",
    "print('rankA_ = ', np.linalg.matrix_rank(A_))"
   ]
  },
  {
   "cell_type": "markdown",
   "id": "920c1ec6",
   "metadata": {},
   "source": [
    "Система совместна и имеет бесконечное количество решений."
   ]
  },
  {
   "cell_type": "markdown",
   "id": "72b10709",
   "metadata": {
    "id": "cTVfl123ZS5O"
   },
   "source": [
    "__3.__ Проверьте на совместность и выясните, сколько решений будет иметь система линейных уравнений, заданная расширенной матрицей:\n",
    "\n",
    "$$\\tilde{A}=\\begin{pmatrix}\n",
    "\\left.\\begin{matrix}\n",
    "1 & 3 & -2 & 4\\\\ \n",
    "0 & 5 & 0 & 1\\\\ \n",
    "0 & 0 & 3 & 0\\\\ \n",
    "0 & 0 & 0 & 2\n",
    "\\end{matrix}\\right|\n",
    "\\begin{matrix}\n",
    "3\\\\ \n",
    "2\\\\\n",
    "4\\\\\n",
    "1\n",
    "\\end{matrix}\n",
    "\\end{pmatrix}.$$"
   ]
  },
  {
   "cell_type": "code",
   "execution_count": 44,
   "id": "0512cc97",
   "metadata": {},
   "outputs": [
    {
     "name": "stdout",
     "output_type": "stream",
     "text": [
      "n = 4\n",
      "rankA =  4\n",
      "rankA_ =  4\n"
     ]
    }
   ],
   "source": [
    "A_ = np.array([[1, 3, -2, 4, 3], [0, 5, 0, 1, 2], [0, 0, 3, 0, 4], [0, 0, 0, 2, 1]])\n",
    "A = A_[:,:-1]\n",
    "b = A_[:,-1]\n",
    "\n",
    "print('n =', A.shape[1])\n",
    "print('rankA = ', np.linalg.matrix_rank(A))\n",
    "print('rankA_ = ', np.linalg.matrix_rank(A_))"
   ]
  },
  {
   "cell_type": "markdown",
   "id": "a1b344af",
   "metadata": {},
   "source": [
    "Система совместна и меет одно решение."
   ]
  },
  {
   "cell_type": "markdown",
   "id": "b0796874",
   "metadata": {
    "id": "cTVfl123ZS5O"
   },
   "source": [
    "__4.__ Дана система линейных уравнений, заданная расширенной матрицей:\n",
    "\n",
    "$$\\tilde{A}=\\begin{pmatrix}\n",
    "\\left.\\begin{matrix}\n",
    "1 & 2 & 3\\\\ \n",
    "4 & 5 & 6\\\\ \n",
    "7 & 8 & 9\n",
    "\\end{matrix}\\right|\n",
    "\\begin{matrix}\n",
    "a\\\\ \n",
    "b\\\\\n",
    "c\n",
    "\\end{matrix}\n",
    "\\end{pmatrix}.$$\n",
    "\n",
    "Найдите соотношение между параметрами $a$, $b$ и $c$, при которых система считается несовместной."
   ]
  },
  {
   "cell_type": "markdown",
   "id": "f2ae762a",
   "metadata": {},
   "source": [
    "Прямой проход:"
   ]
  },
  {
   "cell_type": "markdown",
   "id": "60314e97",
   "metadata": {},
   "source": [
    "$\\tilde{A}=\\begin{pmatrix}\n",
    "\\left.\\begin{matrix}\n",
    "1 & 2 & 3\\\\ \n",
    "0 & -3 & -6\\\\ \n",
    "0 & -6 & -12\n",
    "\\end{matrix}\\right|\n",
    "\\begin{matrix}\n",
    "a\\\\ \n",
    "b - 4a\\\\\n",
    "c - 7a\n",
    "\\end{matrix}\n",
    "\\end{pmatrix}.$"
   ]
  },
  {
   "cell_type": "markdown",
   "id": "9bf8ae6d",
   "metadata": {},
   "source": [
    "$\\tilde{A}=\\begin{pmatrix}\n",
    "\\left.\\begin{matrix}\n",
    "1 & 2 & 3\\\\ \n",
    "0 & -3 & -6\\\\ \n",
    "0 & 0 & 0\n",
    "\\end{matrix}\\right|\n",
    "\\begin{matrix}\n",
    "a\\\\ \n",
    "b - 4a\\\\\n",
    "c - 2b + a\n",
    "\\end{matrix}\n",
    "\\end{pmatrix}.$"
   ]
  },
  {
   "cell_type": "markdown",
   "id": "7ef6161e",
   "metadata": {},
   "source": [
    "Система совместна, когда выполняется равенство:\n",
    "\n",
    "c - 2b + a = 0"
   ]
  }
 ],
 "metadata": {
  "kernelspec": {
   "display_name": "Python 3 (ipykernel)",
   "language": "python",
   "name": "python3"
  },
  "language_info": {
   "codemirror_mode": {
    "name": "ipython",
    "version": 3
   },
   "file_extension": ".py",
   "mimetype": "text/x-python",
   "name": "python",
   "nbconvert_exporter": "python",
   "pygments_lexer": "ipython3",
   "version": "3.9.13"
  }
 },
 "nbformat": 4,
 "nbformat_minor": 5
}
