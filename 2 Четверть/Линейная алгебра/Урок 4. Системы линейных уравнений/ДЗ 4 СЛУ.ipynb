{
 "cells": [
  {
   "cell_type": "code",
   "execution_count": 2,
   "id": "eba5350d",
   "metadata": {},
   "outputs": [],
   "source": [
    "import numpy as np"
   ]
  },
  {
   "cell_type": "markdown",
   "id": "7a2ebf58",
   "metadata": {},
   "source": [
    "#### __1.__ Решите систему уравнений методом Крамера:"
   ]
  },
  {
   "cell_type": "markdown",
   "id": "d958aec5",
   "metadata": {},
   "source": [
    "а) $\\begin{cases}\n",
    "x_{1}-2x_{2}=1 \\\\\n",
    "3x_{1}-4x_{2}=7\n",
    "\\end{cases}$"
   ]
  },
  {
   "cell_type": "code",
   "execution_count": 26,
   "id": "b8942282",
   "metadata": {},
   "outputs": [
    {
     "data": {
      "text/plain": [
       "2.0"
      ]
     },
     "execution_count": 26,
     "metadata": {},
     "output_type": "execute_result"
    }
   ],
   "source": [
    "A = np.array([[1, -2], [3, -4]])\n",
    "np.linalg.det(A).round(3)"
   ]
  },
  {
   "cell_type": "markdown",
   "id": "5a4993fc",
   "metadata": {},
   "source": [
    "𝑑𝑒𝑡𝐴=≠0, следовательно, система совместна."
   ]
  },
  {
   "cell_type": "code",
   "execution_count": 27,
   "id": "35d5a3b8",
   "metadata": {},
   "outputs": [
    {
     "name": "stdout",
     "output_type": "stream",
     "text": [
      "x1 = 5.0\n",
      "x2 = 2.0\n"
     ]
    }
   ],
   "source": [
    "b = np.array([1, 7])\n",
    "\n",
    "for i in np.arange(A.shape[1]):\n",
    "    A_i = A.copy()\n",
    "    A_i[:, i] = b\n",
    "    x_i = np.linalg.det(A_i) / np.linalg.det(A)\n",
    "    print(f'x{i +1} = {x_i.round(3)}')"
   ]
  },
  {
   "cell_type": "markdown",
   "id": "09e58f0b",
   "metadata": {},
   "source": [
    "   б) $\\begin{cases}\n",
    "2x_{1}-x_{2}+5x_{3}=10 \\\\\n",
    "x_{1}+x_{2}-3x_{3}=-2 \\\\\n",
    "2x_{1}+4x_{2}+x_{3}=1\n",
    "\\end{cases}$"
   ]
  },
  {
   "cell_type": "code",
   "execution_count": 29,
   "id": "8de5236b",
   "metadata": {},
   "outputs": [
    {
     "data": {
      "text/plain": [
       "43.0"
      ]
     },
     "execution_count": 29,
     "metadata": {},
     "output_type": "execute_result"
    }
   ],
   "source": [
    "A = np.array([[2, -1, 5], [1, 1, -3], [2, 4, 1]])\n",
    "np.linalg.det(A).round(3)"
   ]
  },
  {
   "cell_type": "markdown",
   "id": "81a73894",
   "metadata": {},
   "source": [
    "𝑑𝑒𝑡𝐴=≠0, следовательно, система совместна."
   ]
  },
  {
   "cell_type": "code",
   "execution_count": 30,
   "id": "5149721b",
   "metadata": {},
   "outputs": [
    {
     "name": "stdout",
     "output_type": "stream",
     "text": [
      "x1 = 2.0\n",
      "x2 = -1.0\n",
      "x3 = 1.0\n"
     ]
    }
   ],
   "source": [
    "b = np.array([10, -2, 1])\n",
    "\n",
    "for i in np.arange(A.shape[1]):\n",
    "    A_i = A.copy()\n",
    "    A_i[:, i] = b\n",
    "    x_i = np.linalg.det(A_i) / np.linalg.det(A)\n",
    "    print(f'x{i +1} = {x_i.round(3)}')"
   ]
  },
  {
   "cell_type": "markdown",
   "id": "a7ac167e",
   "metadata": {},
   "source": [
    "#### __2*.__ Найдите $L$-матрицу $LU$-разложения для матрицы коэффициентов:"
   ]
  },
  {
   "cell_type": "markdown",
   "id": "c75c65ba",
   "metadata": {},
   "source": [
    "   а) $\\begin{pmatrix}\n",
    "1 & 2 & 4 \\\\ \n",
    "2 & 9 & 12 \\\\ \n",
    "3 & 26 & 30\n",
    "\\end{pmatrix}$\n",
    "    \n",
    "   "
   ]
  },
  {
   "cell_type": "markdown",
   "id": "2df4014c",
   "metadata": {},
   "source": [
    " Шаг 1  \n",
    "   U $\\begin{pmatrix}\n",
    "1 & 2 & 4 \\\\ \n",
    "0 & 5 & 4 \\\\ \n",
    "0 & 20 & 18\n",
    "\\end{pmatrix}$  L $\\begin{pmatrix}\n",
    "1 & 0 & 0 \\\\ \n",
    "2 & 1 & 0 \\\\ \n",
    "3 & l32 & 1\n",
    "\\end{pmatrix}$\n",
    "    "
   ]
  },
  {
   "cell_type": "markdown",
   "id": "019a8b1f",
   "metadata": {},
   "source": [
    " Шаг 2  \n",
    "   U $\\begin{pmatrix}\n",
    "1 & 2 & 4 \\\\ \n",
    "0 & 5 & 4 \\\\ \n",
    "0 & 0 & 2\n",
    "\\end{pmatrix}$  L $\\begin{pmatrix}\n",
    "1 & 0 & 0 \\\\ \n",
    "2 & 1 & 0 \\\\ \n",
    "3 & 4 & 1\n",
    "\\end{pmatrix}$\n",
    "    "
   ]
  },
  {
   "cell_type": "markdown",
   "id": "73a6a682",
   "metadata": {},
   "source": [
    "б) $\\begin{pmatrix}\n",
    "1 & 1 & 2 & 4\\\\ \n",
    "2 & 5 & 8 & 9\\\\ \n",
    "3 & 18 & 29 & 18\\\\\n",
    "4 & 22 & 53 & 33\n",
    "\\end{pmatrix}$"
   ]
  },
  {
   "cell_type": "markdown",
   "id": "5f24bb3c",
   "metadata": {},
   "source": [
    " Шаг 1  \n",
    "   U $\\begin{pmatrix}\n",
    "1 & 1 & 2 & 4\\\\ \n",
    "0 & 3 & 4 & 5\\\\ \n",
    "0 & 15 & 23 & 6\\\\\n",
    "0 & 18 & 45 & 27\n",
    "\\end{pmatrix}$  L $\\begin{pmatrix}\n",
    "1 & 0 & 0 & 0\\\\ \n",
    "2 & 1 & 0 & 0\\\\ \n",
    "3 & l32 & 1 & 0\\\\\n",
    "4 & l42 & l43 & 1\n",
    "\\end{pmatrix}$\n",
    "    "
   ]
  },
  {
   "cell_type": "markdown",
   "id": "c43ae44f",
   "metadata": {},
   "source": [
    " Шаг 2  \n",
    "   U $\\begin{pmatrix}\n",
    "1 & 1 & 2 & 4\\\\ \n",
    "0 & 3 & 4 & 5\\\\ \n",
    "0 & 0 & 3 & -19\\\\\n",
    "0 & 0 & 21 & -3\n",
    "\\end{pmatrix}$  L $\\begin{pmatrix}\n",
    "1 & 0 & 0 & 0\\\\ \n",
    "2 & 1 & 0 & 0\\\\ \n",
    "3 & 5 & 1 & 0\\\\\n",
    "4 & 6 & l43 & 1\n",
    "\\end{pmatrix}$"
   ]
  },
  {
   "cell_type": "markdown",
   "id": "f293e6c0",
   "metadata": {},
   "source": [
    " Шаг 2  \n",
    "   U $\\begin{pmatrix}\n",
    "1 & 1 & 2 & 4\\\\ \n",
    "0 & 3 & 4 & 5\\\\ \n",
    "0 & 0 & 3 & -19\\\\\n",
    "0 & 0 & 0 & 130\n",
    "\\end{pmatrix}$  L $\\begin{pmatrix}\n",
    "1 & 0 & 0 & 0\\\\ \n",
    "2 & 1 & 0 & 0\\\\ \n",
    "3 & 5 & 1 & 0\\\\\n",
    "4 & 6 & 7 & 1\n",
    "\\end{pmatrix}$"
   ]
  },
  {
   "cell_type": "markdown",
   "id": "3f7ae632",
   "metadata": {},
   "source": [
    "#### __3*.__ Решите систему линейных уравнений методом $LU$-разложения:"
   ]
  },
  {
   "cell_type": "markdown",
   "id": "249b4099",
   "metadata": {},
   "source": [
    "$\\begin{cases}\n",
    "2x_{1}+x_{2}+3x_{3}=1 \\\\\n",
    "11x_{1}+7x_{2}+5x_{3}=-6 \\\\\n",
    "9x_{1}+8x_{2}+4x_{3}=-5\n",
    "\\end{cases}$"
   ]
  },
  {
   "cell_type": "markdown",
   "id": "963ff937",
   "metadata": {},
   "source": [
    "Найдем L и U матрицы:"
   ]
  },
  {
   "cell_type": "markdown",
   "id": "94e0a3cb",
   "metadata": {},
   "source": [
    " Шаг 1  \n",
    "   U $\\begin{pmatrix}\n",
    "2 & 1 & 3 \\\\ \n",
    "0 & 1.5 & -11.5 \\\\ \n",
    "0 & 3.5 & -9.5\n",
    "\\end{pmatrix}$  L $\\begin{pmatrix}\n",
    "1 & 0 & 0 \\\\ \n",
    "5.5 & 1 & 0 \\\\ \n",
    "4.5 & l23 & 1\n",
    "\\end{pmatrix}$\n",
    "    "
   ]
  },
  {
   "cell_type": "markdown",
   "id": "9ac2cc28",
   "metadata": {},
   "source": [
    " Шаг 2  \n",
    "   U $\\begin{pmatrix}\n",
    "2 & 1 & 3 \\\\ \n",
    "0 & 1.5 & -11.5 \\\\ \n",
    "0 & 0 & 52/3\n",
    "\\end{pmatrix}$  L $\\begin{pmatrix}\n",
    "1 & 0 & 0 \\\\ \n",
    "5.5 & 1 & 0 \\\\ \n",
    "4.5 & 7/3 & 1\n",
    "\\end{pmatrix}$\n",
    "    "
   ]
  },
  {
   "cell_type": "markdown",
   "id": "572875f9",
   "metadata": {},
   "source": [
    "$\\begin{cases}\n",
    "y1 = 1 \\\\\n",
    "y2 = -6 - 11/2 = -23/2 \\\\\n",
    "y3 = -5 - 9/2 + 23*7/6  = 52/3 \\\\\n",
    "\\end{cases}$"
   ]
  },
  {
   "cell_type": "markdown",
   "id": "6ba0c0ec",
   "metadata": {},
   "source": [
    "$\\begin{cases}\n",
    "x1 = (1 - 3) = -1 \\\\\n",
    "x2 = (-23/2 + 23/2)/(3/2) = 0 \\\\\n",
    "x3 = 1 \\\\\n",
    "\\end{cases}$"
   ]
  },
  {
   "cell_type": "markdown",
   "id": "975441ab",
   "metadata": {},
   "source": [
    "Проверка методом Крамера"
   ]
  },
  {
   "cell_type": "code",
   "execution_count": 89,
   "id": "7e16d02e",
   "metadata": {},
   "outputs": [],
   "source": [
    "def kramer(A, b):\n",
    "    x = np.zeros(b.shape)\n",
    "    try:\n",
    "        for i in np.arange(A.shape[1]):\n",
    "            A_i = A.copy()\n",
    "            A_i[:, i] = b\n",
    "            x[i] = np.linalg.det(A_i) / np.linalg.det(A)\n",
    "            print(f'x{i +1} = {x[i].round(3)}')\n",
    "    except ZeroDivisionError:\n",
    "        print('Система является неопределенной.')\n",
    "        return\n",
    "    return x"
   ]
  },
  {
   "cell_type": "code",
   "execution_count": 93,
   "id": "986540af",
   "metadata": {},
   "outputs": [
    {
     "name": "stdout",
     "output_type": "stream",
     "text": [
      "x1 = -1.0\n",
      "x2 = 0.0\n",
      "x3 = 1.0\n"
     ]
    },
    {
     "data": {
      "text/plain": [
       "array([-1.00000000e+00,  2.42618668e-16,  1.00000000e+00])"
      ]
     },
     "execution_count": 93,
     "metadata": {},
     "output_type": "execute_result"
    }
   ],
   "source": [
    "A = np.array([[2, 1, 3], [11, 7, 5], [9, 8, 4]])\n",
    "b = np.array([1, -6, -5])\n",
    "\n",
    "kramer(A, b)"
   ]
  },
  {
   "cell_type": "markdown",
   "id": "bd91f59a",
   "metadata": {},
   "source": [
    "#### __4*.__ Решите систему линейных уравнений методом Холецкого:"
   ]
  },
  {
   "cell_type": "markdown",
   "id": "d68764aa",
   "metadata": {},
   "source": [
    "$\\begin{cases}\n",
    "81x_{1}-45x_{2}+45x_{3}=531 \\\\\n",
    "-45x_{1}+50x_{2}-15x_{3}=-460 \\\\\n",
    "45x_{1}-15x_{2}+38x_{3}=193\n",
    "\\end{cases}$"
   ]
  },
  {
   "cell_type": "code",
   "execution_count": 94,
   "id": "ce964721",
   "metadata": {},
   "outputs": [],
   "source": [
    "def is_sim(A):\n",
    "    if A.shape[0] == A.shape[1]:\n",
    "        for i in np.arange(A.shape[0]):\n",
    "            for j in np.arange(A.shape[0]):\n",
    "                if A[i, j] != A[j, i]:\n",
    "                    print('Некорректные данные. Матрица коэффициентов должна быть симметричной.')\n",
    "                    return False        \n",
    "    else:\n",
    "        print('Некорректные данные. Матрица коэффициентов должна быть квадратной.')\n",
    "        return False\n",
    "    return True"
   ]
  },
  {
   "cell_type": "code",
   "execution_count": 95,
   "id": "4ed0645a",
   "metadata": {},
   "outputs": [],
   "source": [
    "def holezky(A, b):\n",
    "    if not is_sim(A):\n",
    "        return\n",
    "    l = np.zeros(A.shape)\n",
    "    for j in np.arange(A.shape[0]):\n",
    "        for i in np.arange(A.shape[0]):\n",
    "            if i == j:\n",
    "                l[i, j] = np.sqrt(A[i, i] - np.sum([l[i, k] ** 2 for k in np.arange(i)]))\n",
    "            elif i > j:\n",
    "                l[i, j] = (A[i, j] - np.sum([l[i, k] * l[j, k] for k in np.arange(i)])) / l[j, j]\n",
    "    y = np.zeros(b.shape)   \n",
    "    for i in np.arange(A.shape[0]):\n",
    "        y[i] = (b[i] - np.sum([l[i, j] * y[j] for j in np.arange(i)])) / l[i, i]\n",
    "    \n",
    "    x = np.zeros(b.shape)\n",
    "    for i in np.arange(A.shape[0] - 1, -1, -1):\n",
    "        x[i] = (y[i] - np.sum([l.T[i, j] * x[j] for j in np.arange(i + 1, A.shape[0])])) / l.T[i, i]\n",
    "        print(f'x{i+1} = {x[i].round(5)}')\n",
    "    return x"
   ]
  },
  {
   "cell_type": "code",
   "execution_count": 96,
   "id": "28ec5910",
   "metadata": {},
   "outputs": [
    {
     "name": "stdout",
     "output_type": "stream",
     "text": [
      "x3 = 3.0\n",
      "x2 = 2.0\n",
      "x1 = 1.0\n"
     ]
    },
    {
     "data": {
      "text/plain": [
       "array([1., 2., 3.])"
      ]
     },
     "execution_count": 96,
     "metadata": {},
     "output_type": "execute_result"
    }
   ],
   "source": [
    "# Проверка на данных из методички\n",
    "\n",
    "A = np.array([[2, 1, 4], [1, 1, 3], [4, 3, 14]])\n",
    "b = np.array([16, 12, 52])\n",
    "\n",
    "holezky(A, b)"
   ]
  },
  {
   "cell_type": "code",
   "execution_count": 97,
   "id": "23197772",
   "metadata": {},
   "outputs": [
    {
     "name": "stdout",
     "output_type": "stream",
     "text": [
      "x3 = -4.0\n",
      "x2 = -5.0\n",
      "x1 = 6.0\n"
     ]
    },
    {
     "data": {
      "text/plain": [
       "array([ 6., -5., -4.])"
      ]
     },
     "execution_count": 97,
     "metadata": {},
     "output_type": "execute_result"
    }
   ],
   "source": [
    "A = np.array([[81, -45, 45],[-45, 50, -15], [45, -15, 38]])\n",
    "b = np.array([531, -460, 193])\n",
    "\n",
    "holezky(A, b)"
   ]
  }
 ],
 "metadata": {
  "kernelspec": {
   "display_name": "Python 3 (ipykernel)",
   "language": "python",
   "name": "python3"
  },
  "language_info": {
   "codemirror_mode": {
    "name": "ipython",
    "version": 3
   },
   "file_extension": ".py",
   "mimetype": "text/x-python",
   "name": "python",
   "nbconvert_exporter": "python",
   "pygments_lexer": "ipython3",
   "version": "3.9.13"
  }
 },
 "nbformat": 4,
 "nbformat_minor": 5
}
