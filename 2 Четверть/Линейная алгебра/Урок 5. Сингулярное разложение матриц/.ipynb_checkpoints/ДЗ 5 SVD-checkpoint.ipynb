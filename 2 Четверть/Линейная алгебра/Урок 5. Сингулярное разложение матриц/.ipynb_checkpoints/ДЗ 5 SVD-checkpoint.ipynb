{
 "cells": [
  {
   "cell_type": "markdown",
   "id": "8f349ee4",
   "metadata": {},
   "source": [
    "1. Найдите посредством NumPy SVD для матрицы:\n",
    "\n",
    "$$\\begin{pmatrix}\n",
    "1 & 2 & 0\\\\ \n",
    "0 & 0 & 5\\\\ \n",
    "3 & -4 & 2\\\\ \n",
    "1 & 6 & 5\\\\ \n",
    "0 & 1 & 0\n",
    "\\end{pmatrix}.$$"
   ]
  },
  {
   "cell_type": "code",
   "execution_count": 1,
   "id": "83ef3269",
   "metadata": {},
   "outputs": [],
   "source": [
    "import numpy as np"
   ]
  },
  {
   "cell_type": "code",
   "execution_count": 9,
   "id": "a06a9277",
   "metadata": {},
   "outputs": [
    {
     "name": "stdout",
     "output_type": "stream",
     "text": [
      "Матрица U (5x5): \n",
      "[[ 0.17056501  0.15680918 -0.53077508 -0.79905375 -0.16158397]\n",
      " [ 0.39287016 -0.52933945  0.6134793  -0.43375771  0.03082495]\n",
      " [-0.14366152 -0.82449256 -0.52379105  0.14049848  0.07400343]\n",
      " [ 0.88843702  0.06074346 -0.24655277  0.37755832 -0.06042632]\n",
      " [ 0.08125046  0.10831843 -0.08231425 -0.10524851  0.98173958]]\n",
      "\n",
      "Матрица D (5x3): \n",
      "[[8.82486885 0.         0.        ]\n",
      " [0.         6.14060608 0.        ]\n",
      " [0.         0.         2.53271528]\n",
      " [0.         0.         0.        ]\n",
      " [0.         0.         0.        ]]\n",
      "\n",
      "Матрица V_T (3x3): \n",
      "[[ 0.07116451  0.71702467  0.69340553]\n",
      " [-0.36737824  0.66514082 -0.65009301]\n",
      " [-0.92734505 -0.20847855  0.31075368]]\n",
      "\n"
     ]
    }
   ],
   "source": [
    "A = np.array([[1, 2, 0], [0, 0, 5], [3, -4, 2], [1, 6, 5], [0, 1, 0]])\n",
    "\n",
    "U, d, V_T = np.linalg.svd(A)\n",
    "D = np.zeros_like(A,dtype='float')\n",
    "np.fill_diagonal(D, d)\n",
    "print(f'Матрица U ({U.shape[0]}x{U.shape[1]}): ', U, sep='\\n', end='\\n\\n')\n",
    "print(f'Матрица D ({D.shape[0]}x{D.shape[1]}): ', D, sep='\\n', end='\\n\\n')\n",
    "print(f'Матрица V_T ({V_T.shape[0]}x{V_T.shape[1]}): ', V_T, sep='\\n', end='\\n\\n')"
   ]
  },
  {
   "cell_type": "markdown",
   "id": "7239b159",
   "metadata": {},
   "source": [
    "2. Для матрицы из предыдущего задания найдите:\n",
    "\n",
    "    а) евклидову норму;"
   ]
  },
  {
   "cell_type": "code",
   "execution_count": 16,
   "id": "b2477f11",
   "metadata": {},
   "outputs": [
    {
     "data": {
      "text/plain": [
       "(8.824868854820442, 8.824868854820444)"
      ]
     },
     "execution_count": 16,
     "metadata": {},
     "output_type": "execute_result"
    }
   ],
   "source": [
    "A_Enorm = d[0]\n",
    "A_Enorm, np.linalg.norm(A, ord=2)"
   ]
  },
  {
   "cell_type": "markdown",
   "id": "50a78056",
   "metadata": {},
   "source": [
    "    б) норму Фробениуса."
   ]
  },
  {
   "cell_type": "code",
   "execution_count": 17,
   "id": "320c2a2d",
   "metadata": {},
   "outputs": [
    {
     "data": {
      "text/plain": [
       "(11.045361017187261, 11.045361017187261)"
      ]
     },
     "execution_count": 17,
     "metadata": {},
     "output_type": "execute_result"
    }
   ],
   "source": [
    "A_Fnorm = np.sqrt(np.sum(np.square(d)))\n",
    "A_Fnorm, np.linalg.norm(A, ord='fro')"
   ]
  }
 ],
 "metadata": {
  "kernelspec": {
   "display_name": "Python 3 (ipykernel)",
   "language": "python",
   "name": "python3"
  },
  "language_info": {
   "codemirror_mode": {
    "name": "ipython",
    "version": 3
   },
   "file_extension": ".py",
   "mimetype": "text/x-python",
   "name": "python",
   "nbconvert_exporter": "python",
   "pygments_lexer": "ipython3",
   "version": "3.9.13"
  }
 },
 "nbformat": 4,
 "nbformat_minor": 5
}
