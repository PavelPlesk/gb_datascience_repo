{
 "cells": [
  {
   "cell_type": "code",
   "execution_count": 8,
   "id": "f47f11a5",
   "metadata": {},
   "outputs": [],
   "source": [
    "import numpy as np\n",
    "import pandas as pdb"
   ]
  },
  {
   "cell_type": "code",
   "execution_count": 11,
   "id": "bb78be48",
   "metadata": {},
   "outputs": [],
   "source": [
    "def combinations (n, k):\n",
    "    return np.math.factorial(n) // ( np.math.factorial(k) *  np.math.factorial(n - k))"
   ]
  },
  {
   "cell_type": "markdown",
   "id": "752ec626",
   "metadata": {},
   "source": [
    "#### Задача 1\n",
    "\n",
    "Контрольная работа состоит из пяти вопросов. На каждый вопрос приведено четыре варианта ответа, один из которых правильный. "
   ]
  },
  {
   "cell_type": "markdown",
   "id": "c77e1560",
   "metadata": {},
   "source": [
    "Составьте закон распределения числа правильных ответов при простом угадывании. "
   ]
  },
  {
   "cell_type": "markdown",
   "id": "b4e5aa54",
   "metadata": {},
   "source": [
    "Описанные условия соответсвуют биноминальному закону распространения вероятностей, которые можно рассчитать с помощью формулы Бернулли."
   ]
  },
  {
   "cell_type": "code",
   "execution_count": 43,
   "id": "dacc40c8",
   "metadata": {},
   "outputs": [],
   "source": [
    "n = 5 #количество испытаний\n",
    "p = 0.25 #вероятность угадать правильный ответ\n",
    "q = 1 - p #вероятность не угадать правильный ответ"
   ]
  },
  {
   "cell_type": "code",
   "execution_count": 44,
   "id": "19dbf613",
   "metadata": {},
   "outputs": [
    {
     "data": {
      "text/plain": [
       "0    0.237305\n",
       "1    0.395508\n",
       "2    0.263672\n",
       "3    0.087891\n",
       "4    0.014648\n",
       "5    0.000977\n",
       "dtype: float64"
      ]
     },
     "execution_count": 44,
     "metadata": {},
     "output_type": "execute_result"
    }
   ],
   "source": [
    "binominal = pd.Series({k : combinations(n, k) * (p ** k) * (q ** (n - k)) for k in range(0, n + 1)})\n",
    "binominal"
   ]
  },
  {
   "cell_type": "code",
   "execution_count": 45,
   "id": "98623f83",
   "metadata": {},
   "outputs": [
    {
     "data": {
      "text/plain": [
       "1.0"
      ]
     },
     "execution_count": 45,
     "metadata": {},
     "output_type": "execute_result"
    }
   ],
   "source": [
    "sum(binominal)"
   ]
  },
  {
   "cell_type": "markdown",
   "id": "36418181",
   "metadata": {},
   "source": [
    "Найдите M(X), D(X)."
   ]
  },
  {
   "cell_type": "code",
   "execution_count": 46,
   "id": "8ae9d32c",
   "metadata": {},
   "outputs": [
    {
     "data": {
      "text/plain": [
       "1.25"
      ]
     },
     "execution_count": 46,
     "metadata": {},
     "output_type": "execute_result"
    }
   ],
   "source": [
    "M = n * p\n",
    "M"
   ]
  },
  {
   "cell_type": "code",
   "execution_count": 47,
   "id": "697a656b",
   "metadata": {},
   "outputs": [
    {
     "data": {
      "text/plain": [
       "0.9375"
      ]
     },
     "execution_count": 47,
     "metadata": {},
     "output_type": "execute_result"
    }
   ],
   "source": [
    "D = n * p * (1 - p)\n",
    "D"
   ]
  },
  {
   "cell_type": "markdown",
   "id": "79e94ad4",
   "metadata": {},
   "source": [
    "#### Задача 2\n",
    "\n",
    "Вероятность поймать рыбу при одном забрасывании удочки равна 0.01. Какова вероятность того, что число пойманных рыб при 200 забросах удочки будет не менее 5 и не более 10?"
   ]
  },
  {
   "cell_type": "markdown",
   "id": "bfbad105",
   "metadata": {},
   "source": [
    "Низкая вероятность положительного исхода и большое количество испытаний указывают на то, что можно применять распределение Пуассона."
   ]
  },
  {
   "cell_type": "code",
   "execution_count": 73,
   "id": "7029104b",
   "metadata": {},
   "outputs": [],
   "source": [
    "n = 200\n",
    "p = 0.01\n",
    "\n",
    "_lambda = n * p"
   ]
  },
  {
   "cell_type": "code",
   "execution_count": 74,
   "id": "1df4cb0a",
   "metadata": {},
   "outputs": [
    {
     "data": {
      "text/plain": [
       "0.052644709119342686"
      ]
     },
     "execution_count": 74,
     "metadata": {},
     "output_type": "execute_result"
    }
   ],
   "source": [
    "k1 = 5\n",
    "k2 = 10\n",
    "\n",
    "p_range = sum([_lambda ** k * np.exp(-_lambda) / np.math.factorial(k) for k in range(k1, k2 + 1)])\n",
    "p_range"
   ]
  },
  {
   "cell_type": "markdown",
   "id": "a91e1f79",
   "metadata": {},
   "source": [
    "#### Задача 3\n",
    "\n",
    "В условиях предыдущей задачи сколько забросов удочки нужно сделать чтобы быть уверенным с вероятностью 0.9, что хотя бы 10 раз будет поймана рыба?\n",
    "\n",
    "Подсказка. Как посчитать P(X >= k) для величины X, имеющей биномиальное распределение? Здесь предстоит немножко покодить."
   ]
  },
  {
   "cell_type": "code",
   "execution_count": 78,
   "id": "366ca2cc",
   "metadata": {},
   "outputs": [
    {
     "data": {
      "text/plain": [
       "1421"
      ]
     },
     "execution_count": 78,
     "metadata": {},
     "output_type": "execute_result"
    }
   ],
   "source": [
    "n = 10\n",
    "p = 0.01\n",
    "k3 = 10\n",
    "_lambda = n * p\n",
    "p_ge_k3 = 1 - sum([_lambda ** k * np.exp(-_lambda) / np.math.factorial(k) for k in range(0, k3)])\n",
    "\n",
    "while p_ge_k3 < 0.9:\n",
    "    n = n + 1\n",
    "    _lambda = n * p\n",
    "    p_ge_k3 = 1 - sum([_lambda ** k * np.exp(-_lambda) / np.math.factorial(k) for k in range(0, k3)])\n",
    "n"
   ]
  },
  {
   "cell_type": "markdown",
   "id": "78636a9f",
   "metadata": {},
   "source": []
  }
 ],
 "metadata": {
  "kernelspec": {
   "display_name": "Python 3 (ipykernel)",
   "language": "python",
   "name": "python3"
  },
  "language_info": {
   "codemirror_mode": {
    "name": "ipython",
    "version": 3
   },
   "file_extension": ".py",
   "mimetype": "text/x-python",
   "name": "python",
   "nbconvert_exporter": "python",
   "pygments_lexer": "ipython3",
   "version": "3.9.12"
  }
 },
 "nbformat": 4,
 "nbformat_minor": 5
}
