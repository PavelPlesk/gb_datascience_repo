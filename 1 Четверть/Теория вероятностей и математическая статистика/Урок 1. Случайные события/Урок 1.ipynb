{
 "cells": [
  {
   "cell_type": "code",
   "execution_count": 16,
   "id": "2a0e431c",
   "metadata": {},
   "outputs": [],
   "source": [
    "import numpy as np\n",
    "\n",
    "def combinations (n, k):\n",
    "    return np.math.factorial(n) // ( np.math.factorial(k) *  np.math.factorial(n - k))\n",
    "\n",
    "def arrangements (n, k):\n",
    "    return np.math.factorial(n) // np.math.factorial(n - k)\n",
    "\n",
    "def permutations (n):\n",
    "    return int(np.math.factorial(n))"
   ]
  },
  {
   "cell_type": "markdown",
   "id": "799d471f",
   "metadata": {},
   "source": [
    "#### Задача 1\n",
    "\n",
    "Группа студентов изучает 10 различных дисциплин. Сколькими способами можно составить расписание на понедельник, если в этот день должно быть 4 разных занятия?"
   ]
  },
  {
   "cell_type": "markdown",
   "id": "d9f5333e",
   "metadata": {},
   "source": [
    "#### Решение\n",
    "\n",
    "Используем формулу для размещения, поскольку порадок дисциплин важен."
   ]
  },
  {
   "cell_type": "code",
   "execution_count": 17,
   "id": "8410bbf6",
   "metadata": {},
   "outputs": [
    {
     "data": {
      "text/plain": [
       "5040"
      ]
     },
     "execution_count": 17,
     "metadata": {},
     "output_type": "execute_result"
    }
   ],
   "source": [
    "n = 10\n",
    "k = 4\n",
    "a = arrangements(n, k)\n",
    "a"
   ]
  },
  {
   "cell_type": "markdown",
   "id": "fa42715d",
   "metadata": {},
   "source": [
    "#### Задача 2\n",
    "\n",
    "Из колоды в 52 карты вынимают случайным образом 4 карты. Найти число исходов, соответствующих тому, что был вытянут хотя бы один туз."
   ]
  },
  {
   "cell_type": "markdown",
   "id": "848248b1",
   "metadata": {},
   "source": [
    "#### Решение\n",
    "\n",
    "1) Разобьем колоду на 2 группы: в первой 4 туза, во второй - оставшиеся 48 карт."
   ]
  },
  {
   "cell_type": "markdown",
   "id": "04bf193f",
   "metadata": {},
   "source": [
    "2) Из первой группы нужно вытащить 1 туз - всего существует 4 таких комбинации."
   ]
  },
  {
   "cell_type": "code",
   "execution_count": 26,
   "id": "89ad80d7",
   "metadata": {},
   "outputs": [
    {
     "data": {
      "text/plain": [
       "4"
      ]
     },
     "execution_count": 26,
     "metadata": {},
     "output_type": "execute_result"
    }
   ],
   "source": [
    "n = 52\n",
    "k = 4\n",
    "aces = 1\n",
    "c_aces = combinations(4, aces)\n",
    "c_aces"
   ]
  },
  {
   "cell_type": "markdown",
   "id": "cad06b39",
   "metadata": {},
   "source": [
    "3) Из второй группы нужно вытащить остальные 3 карты. Рассчитаем возможное количество комбинаций"
   ]
  },
  {
   "cell_type": "code",
   "execution_count": 27,
   "id": "ee7a3e51",
   "metadata": {},
   "outputs": [
    {
     "data": {
      "text/plain": [
       "17296"
      ]
     },
     "execution_count": 27,
     "metadata": {},
     "output_type": "execute_result"
    }
   ],
   "source": [
    "c_others = combinations(n - 4, k - aces)\n",
    "c_others"
   ]
  },
  {
   "cell_type": "markdown",
   "id": "0353af50",
   "metadata": {},
   "source": [
    "4) Общее количество исходов рассчитаем как произведение полученных комбинаций для первой и второй групп"
   ]
  },
  {
   "cell_type": "code",
   "execution_count": 29,
   "id": "b2e31946",
   "metadata": {},
   "outputs": [
    {
     "data": {
      "text/plain": [
       "69184"
      ]
     },
     "execution_count": 29,
     "metadata": {},
     "output_type": "execute_result"
    }
   ],
   "source": [
    "с = c_aces * c_others\n",
    "с"
   ]
  },
  {
   "cell_type": "markdown",
   "id": "9af0a63e",
   "metadata": {},
   "source": [
    "#### Задача 3\n",
    "\n",
    "Семь человек рассаживаются наудачу на скамейке. Какова вероятность того, что два определённых человека будут сидеть рядом?"
   ]
  },
  {
   "cell_type": "markdown",
   "id": "04f9b7ad",
   "metadata": {},
   "source": [
    "#### Решение\n",
    "\n",
    "Обозначим определенных людей буквами A и B, а посадочные места цифрами от 1 до 7."
   ]
  },
  {
   "cell_type": "markdown",
   "id": "adcf77af",
   "metadata": {},
   "source": [
    "1) Нетрудно сосчитать, что существует всего 2х6=12 позиций которые могут занять А и B, чтобы оказаться рядом (A - 1, B - 2; A - 2, B - 3; ... ; A - 6, B - 7; B - 1, A - 2; ...)"
   ]
  },
  {
   "cell_type": "markdown",
   "id": "cc598dbc",
   "metadata": {},
   "source": [
    "2) Для каждой из этих позиций количество возможных рассадок рассчитаем, используя формулу перестановок применительно к оставшимся 5 людям"
   ]
  },
  {
   "cell_type": "code",
   "execution_count": 40,
   "id": "ac7d5dff",
   "metadata": {},
   "outputs": [
    {
     "data": {
      "text/plain": [
       "120"
      ]
     },
     "execution_count": 40,
     "metadata": {},
     "output_type": "execute_result"
    }
   ],
   "source": [
    "a = permutations(5)\n",
    "a"
   ]
  },
  {
   "cell_type": "markdown",
   "id": "ff57904f",
   "metadata": {},
   "source": [
    "3) Количество исходов, удовлетворяющий условию"
   ]
  },
  {
   "cell_type": "code",
   "execution_count": 41,
   "id": "4183ff4d",
   "metadata": {},
   "outputs": [
    {
     "data": {
      "text/plain": [
       "1440"
      ]
     },
     "execution_count": 41,
     "metadata": {},
     "output_type": "execute_result"
    }
   ],
   "source": [
    "m = 12 * a\n",
    "m"
   ]
  },
  {
   "cell_type": "markdown",
   "id": "74e4a9bd",
   "metadata": {},
   "source": [
    "4) Общее количество вариантов рассадки определим, используя функцию перестановок"
   ]
  },
  {
   "cell_type": "code",
   "execution_count": 42,
   "id": "e2148a34",
   "metadata": {},
   "outputs": [
    {
     "data": {
      "text/plain": [
       "5040"
      ]
     },
     "execution_count": 42,
     "metadata": {},
     "output_type": "execute_result"
    }
   ],
   "source": [
    "n = permutations(7)\n",
    "n"
   ]
  },
  {
   "cell_type": "markdown",
   "id": "4f0b7445",
   "metadata": {},
   "source": [
    "5) Рассчитаем относительную вероятность появления рассадки, соответствующей условию задача"
   ]
  },
  {
   "cell_type": "code",
   "execution_count": 44,
   "id": "c877604a",
   "metadata": {},
   "outputs": [
    {
     "data": {
      "text/plain": [
       "0.2857142857142857"
      ]
     },
     "execution_count": 44,
     "metadata": {},
     "output_type": "execute_result"
    }
   ],
   "source": [
    "p = m / n\n",
    "p"
   ]
  },
  {
   "cell_type": "markdown",
   "id": "8a5c2b21",
   "metadata": {},
   "source": [
    " #### Задача 4\n",
    "\n",
    "Из 60 вопросов, входящих в экзаменационные билеты, студент знает 50. Какова вероятность того, что среди трёх наугад выбранных вопросов студент знает: а) все? б) два?"
   ]
  },
  {
   "cell_type": "markdown",
   "id": "3836a3b5",
   "metadata": {},
   "source": [
    "#### Решение\n",
    "\n",
    "1) Определим общее количество вероятных исходов, использую функцию комбинаций."
   ]
  },
  {
   "cell_type": "code",
   "execution_count": 45,
   "id": "5618049d",
   "metadata": {},
   "outputs": [
    {
     "data": {
      "text/plain": [
       "34220"
      ]
     },
     "execution_count": 45,
     "metadata": {},
     "output_type": "execute_result"
    }
   ],
   "source": [
    "t = 60\n",
    "k = 3\n",
    "l = 50\n",
    "\n",
    "n = combinations(t, k)\n",
    "n"
   ]
  },
  {
   "cell_type": "markdown",
   "id": "0a3ba176",
   "metadata": {},
   "source": [
    "2) Разделим все вопросы на 50 удачных и 10 неудачных."
   ]
  },
  {
   "cell_type": "markdown",
   "id": "79f49f6a",
   "metadata": {},
   "source": [
    "3a) Определим сколькими способами можно взять 3 удачных вопроса из 50, используя комбинации. Это и будет возможное количество удачных исходов."
   ]
  },
  {
   "cell_type": "code",
   "execution_count": 57,
   "id": "a0711042",
   "metadata": {},
   "outputs": [
    {
     "data": {
      "text/plain": [
       "19600"
      ]
     },
     "execution_count": 57,
     "metadata": {},
     "output_type": "execute_result"
    }
   ],
   "source": [
    "ma = combinations(l, k)\n",
    "ma"
   ]
  },
  {
   "cell_type": "markdown",
   "id": "0ec0804c",
   "metadata": {},
   "source": [
    "4a) Определим относительную вероятность."
   ]
  },
  {
   "cell_type": "code",
   "execution_count": 58,
   "id": "4c366a0c",
   "metadata": {},
   "outputs": [
    {
     "data": {
      "text/plain": [
       "0.5727644652250146"
      ]
     },
     "execution_count": 58,
     "metadata": {},
     "output_type": "execute_result"
    }
   ],
   "source": [
    "pa = ma / n\n",
    "pa"
   ]
  },
  {
   "cell_type": "markdown",
   "id": "8c4397c9",
   "metadata": {},
   "source": [
    "3б) Определим сколькими способами можно взять 2 удачных вопроса из 50 и 1 неудачный из оставшихся, используя комбинации. Это и будет возможное количество удачных исходов."
   ]
  },
  {
   "cell_type": "code",
   "execution_count": 59,
   "id": "09b3543c",
   "metadata": {},
   "outputs": [
    {
     "data": {
      "text/plain": [
       "12250"
      ]
     },
     "execution_count": 59,
     "metadata": {},
     "output_type": "execute_result"
    }
   ],
   "source": [
    "e = 2\n",
    "\n",
    "mb = combinations(l, e)*combinations(t - l, k - e)\n",
    "mb"
   ]
  },
  {
   "cell_type": "markdown",
   "id": "d6a711e1",
   "metadata": {},
   "source": [
    "4б) Определим относительную вероятность."
   ]
  },
  {
   "cell_type": "code",
   "execution_count": 60,
   "id": "32e4eb28",
   "metadata": {},
   "outputs": [
    {
     "data": {
      "text/plain": [
       "0.35797779076563413"
      ]
     },
     "execution_count": 60,
     "metadata": {},
     "output_type": "execute_result"
    }
   ],
   "source": [
    "pb = mb / n\n",
    "pb"
   ]
  },
  {
   "cell_type": "markdown",
   "id": "7583c742",
   "metadata": {},
   "source": [
    "#### Задача 5\n",
    "\n",
    "Бросается игральная кость. Пусть событие A - появление чётного числа, событие B - появление числа больше трёх. Являются ли эти события независимыми?"
   ]
  },
  {
   "cell_type": "markdown",
   "id": "3c02722c",
   "metadata": {},
   "source": [
    "#### Решение\n",
    "\n",
    "1) Вероятность A"
   ]
  },
  {
   "cell_type": "code",
   "execution_count": 61,
   "id": "578e0b8e",
   "metadata": {},
   "outputs": [
    {
     "data": {
      "text/plain": [
       "0.5"
      ]
     },
     "execution_count": 61,
     "metadata": {},
     "output_type": "execute_result"
    }
   ],
   "source": [
    "pa = 3 / 6\n",
    "pa"
   ]
  },
  {
   "cell_type": "markdown",
   "id": "4a7934f2",
   "metadata": {},
   "source": [
    "2) Вероятность В"
   ]
  },
  {
   "cell_type": "code",
   "execution_count": 68,
   "id": "139f2693",
   "metadata": {},
   "outputs": [
    {
     "data": {
      "text/plain": [
       "0.5"
      ]
     },
     "execution_count": 68,
     "metadata": {},
     "output_type": "execute_result"
    }
   ],
   "source": [
    "pb = 3 /6\n",
    "pb"
   ]
  },
  {
   "cell_type": "markdown",
   "id": "213f6962",
   "metadata": {},
   "source": [
    "3) Вероятность одновременного выполнения условий A и В"
   ]
  },
  {
   "cell_type": "code",
   "execution_count": 69,
   "id": "8da1d174",
   "metadata": {},
   "outputs": [
    {
     "data": {
      "text/plain": [
       "0.3333333333333333"
      ]
     },
     "execution_count": 69,
     "metadata": {},
     "output_type": "execute_result"
    }
   ],
   "source": [
    "pab = 2 / 6\n",
    "pab"
   ]
  },
  {
   "cell_type": "markdown",
   "id": "766b0e02",
   "metadata": {},
   "source": [
    "4) Проверка на независимость"
   ]
  },
  {
   "cell_type": "code",
   "execution_count": 70,
   "id": "0fbcfd63",
   "metadata": {},
   "outputs": [
    {
     "data": {
      "text/plain": [
       "False"
      ]
     },
     "execution_count": 70,
     "metadata": {},
     "output_type": "execute_result"
    }
   ],
   "source": [
    "pab == pa*pb"
   ]
  },
  {
   "cell_type": "markdown",
   "id": "c5c2286c",
   "metadata": {},
   "source": [
    "События НЕ явлются независимыми."
   ]
  },
  {
   "cell_type": "markdown",
   "id": "4c4ab65a",
   "metadata": {},
   "source": [
    "#### Задача 6 (Дополнительно)\n",
    "\n",
    "Допустим, имеется некоторая очень редкая болезнь (поражает 0.1 % населения). Вы приходите к врачу, вам делают тест на эту болезнь, и тест оказывается положительным. Врач говорит вам, что этот тест верно выявляет 99 % больных этой болезнью и всего лишь в 1 % случаев даёт ложный положительный ответ.\n",
    "\n",
    "Вопрос: какова вероятность, что вы действительно больны ей?\n",
    "\n",
    "Подсказка: вновь используйте формулу Байеса с раскрытием знаменателя с помощью формулы полной вероятности."
   ]
  },
  {
   "cell_type": "markdown",
   "id": "cf307132",
   "metadata": {},
   "source": [
    "#### Решение"
   ]
  },
  {
   "cell_type": "code",
   "execution_count": 102,
   "id": "fe7f481c",
   "metadata": {},
   "outputs": [],
   "source": [
    "p_ill = 0.001 #вероятность заболеть\n",
    "p_healthy = 1 - p_ill #вероятность не заболеть\n",
    "p_corr_i = 0.99 #вероятность того, что у заболевшего человека тест покажет положительный результат\n",
    "p_mist_h = 0.01 #вероятность того, что у здорового человека тест покажет положительный результат"
   ]
  },
  {
   "cell_type": "markdown",
   "id": "12f83a22",
   "metadata": {},
   "source": [
    "событие А - тест дает положительный результат\n",
    "\n",
    "событие В1 - человек болен\n",
    "\n",
    "событие В2 - человек здоров"
   ]
  },
  {
   "cell_type": "code",
   "execution_count": 103,
   "id": "4623b9b4",
   "metadata": {},
   "outputs": [],
   "source": [
    "p_b1 = p_ill\n",
    "p_b2 = p_healthy\n",
    "p_aIb1 = p_corr_i\n",
    "p_aIb2 = p_mist_h"
   ]
  },
  {
   "cell_type": "markdown",
   "id": "459c5d35",
   "metadata": {},
   "source": [
    "Вероятность события А определим по формуле полной вероятности"
   ]
  },
  {
   "cell_type": "code",
   "execution_count": 104,
   "id": "07d1da31",
   "metadata": {},
   "outputs": [
    {
     "data": {
      "text/plain": [
       "0.01098"
      ]
     },
     "execution_count": 104,
     "metadata": {},
     "output_type": "execute_result"
    }
   ],
   "source": [
    "p_a = p_b1 * p_aIb1 + p_b2 * p_aIb2\n",
    "p_a"
   ]
  },
  {
   "cell_type": "markdown",
   "id": "df3a695b",
   "metadata": {},
   "source": [
    "Для определения вероятности того, что человек болен при условии, что результат его теста положительный, используем формулу Бейеса"
   ]
  },
  {
   "cell_type": "code",
   "execution_count": 105,
   "id": "34a48500",
   "metadata": {},
   "outputs": [
    {
     "data": {
      "text/plain": [
       "0.09016393442622951"
      ]
     },
     "execution_count": 105,
     "metadata": {},
     "output_type": "execute_result"
    }
   ],
   "source": [
    "p_b1Ia = p_b1 * p_aIb1 / p_a\n",
    "p_b1Ia"
   ]
  }
 ],
 "metadata": {
  "kernelspec": {
   "display_name": "Python 3 (ipykernel)",
   "language": "python",
   "name": "python3"
  },
  "language_info": {
   "codemirror_mode": {
    "name": "ipython",
    "version": 3
   },
   "file_extension": ".py",
   "mimetype": "text/x-python",
   "name": "python",
   "nbconvert_exporter": "python",
   "pygments_lexer": "ipython3",
   "version": "3.9.12"
  }
 },
 "nbformat": 4,
 "nbformat_minor": 5
}
