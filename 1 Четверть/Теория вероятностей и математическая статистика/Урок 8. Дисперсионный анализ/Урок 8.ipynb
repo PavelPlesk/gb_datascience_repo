{
 "cells": [
  {
   "cell_type": "code",
   "execution_count": 50,
   "id": "2d8e86d8",
   "metadata": {},
   "outputs": [],
   "source": [
    "import numpy as np\n",
    "from scipy import stats\n",
    "import matplotlib.pyplot as plt"
   ]
  },
  {
   "cell_type": "markdown",
   "id": "60bb789d",
   "metadata": {},
   "source": [
    "#### Задача 1\n",
    "\n",
    "Провести дисперсионный анализ для определения того, есть ли различия среднего роста среди взрослых футболистов, хоккеистов и штангистов. Даны значения роста в трех группах случайно выбранных спортсменов:\n",
    "\n",
    "football_players = [173, 175, 180, 178, 177, 185, 183, 182]\n",
    "hockey_players = [177, 179, 180, 188, 177, 172, 171, 184, 180]\n",
    "lifters = [172, 173, 169, 177, 166, 180, 178, 177, 172, 166, 170]"
   ]
  },
  {
   "cell_type": "code",
   "execution_count": 51,
   "id": "2c6d85be",
   "metadata": {},
   "outputs": [],
   "source": [
    "y1 = np.array([173, 175, 180, 178, 177, 185, 183, 182])\n",
    "y2 = np.array([177, 179, 180, 188, 177, 172, 171, 184, 180])\n",
    "y3 = np.array([172, 173, 169, 177, 166, 180, 178, 177, 172, 166, 170])\n",
    "y = np.concatenate([y1, y2, y3])"
   ]
  },
  {
   "cell_type": "code",
   "execution_count": 52,
   "id": "6246447e",
   "metadata": {},
   "outputs": [],
   "source": [
    "n1 = y1.shape[0]\n",
    "n2 = y2.shape[0]\n",
    "n3 = y3.shape[0]\n",
    "n = y.shape[0]"
   ]
  },
  {
   "cell_type": "code",
   "execution_count": 53,
   "id": "2bb0556f",
   "metadata": {},
   "outputs": [
    {
     "data": {
      "text/plain": [
       "(253.9074675324678, 577.0568181818182, 830.9642857142854)"
      ]
     },
     "execution_count": 53,
     "metadata": {},
     "output_type": "execute_result"
    }
   ],
   "source": [
    "S2_b = n1 * (y1.mean() - y.mean()) ** 2 + n2 * (y2.mean() - y.mean()) ** 2 + n3 * (y3.mean() - y.mean()) ** 2\n",
    "S2_w = ((y1 - y1.mean()) ** 2).sum() + ((y2 - y2.mean()) ** 2).sum() + ((y3 - y3.mean()) ** 2).sum()\n",
    "S2 = ((y - y.mean()) ** 2).sum()\n",
    "\n",
    "S2_b, S2_w, S2"
   ]
  },
  {
   "cell_type": "code",
   "execution_count": 54,
   "id": "bd40389b",
   "metadata": {},
   "outputs": [
    {
     "data": {
      "text/plain": [
       "5.500053450812598"
      ]
     },
     "execution_count": 54,
     "metadata": {},
     "output_type": "execute_result"
    }
   ],
   "source": [
    "k = 3\n",
    "\n",
    "k1 = k - 1\n",
    "k2 = n - k\n",
    "\n",
    "sigma2_b = S2_b / k1\n",
    "sigma2_w = S2_w / k2\n",
    "\n",
    "F_h = sigma2_b / sigma2_w\n",
    "F_h"
   ]
  },
  {
   "cell_type": "code",
   "execution_count": 55,
   "id": "ead87aaa",
   "metadata": {},
   "outputs": [
    {
     "data": {
      "text/plain": [
       "3.3851899614491687"
      ]
     },
     "execution_count": 55,
     "metadata": {},
     "output_type": "execute_result"
    }
   ],
   "source": [
    "alpha = 0.05\n",
    "\n",
    "F_crit = stats.f.ppf(1 - alpha, k1, k2)\n",
    "F_crit"
   ]
  },
  {
   "cell_type": "code",
   "execution_count": 56,
   "id": "db2bb3c1",
   "metadata": {},
   "outputs": [
    {
     "data": {
      "text/plain": [
       "True"
      ]
     },
     "execution_count": 56,
     "metadata": {},
     "output_type": "execute_result"
    }
   ],
   "source": [
    "F_h > F_crit"
   ]
  },
  {
   "cell_type": "markdown",
   "id": "8e416ede",
   "metadata": {},
   "source": [
    "Различие среднего роста спортсменов по видам спорта является статистически значимым."
   ]
  },
  {
   "cell_type": "code",
   "execution_count": 57,
   "id": "1a003ca8",
   "metadata": {},
   "outputs": [
    {
     "data": {
      "text/plain": [
       "F_onewayResult(statistic=5.500053450812596, pvalue=0.010482206918698694)"
      ]
     },
     "execution_count": 57,
     "metadata": {},
     "output_type": "execute_result"
    }
   ],
   "source": [
    "stats.f_oneway(y1, y2, y3)"
   ]
  },
  {
   "cell_type": "code",
   "execution_count": 59,
   "id": "670c7b2e",
   "metadata": {},
   "outputs": [
    {
     "data": {
      "image/png": "[encoded data removed]",
      "text/plain": [
       "<Figure size 432x288 with 1 Axes>"
      ]
     },
     "metadata": {
      "needs_background": "light"
     },
     "output_type": "display_data"
    }
   ],
   "source": [
    "plt.scatter(1 * (y1 / y1), y1, color='blue')\n",
    "plt.axhline(y=y1.mean(), color='blue')\n",
    "plt.scatter(2 * (y2 / y2), y2, color='orange')\n",
    "plt.axhline(y=y2.mean(), color='orange')\n",
    "plt.scatter(3 * (y3 / y3), y3, color='green')\n",
    "plt.axhline(y=y3.mean(), color='green')\n",
    "\n",
    "plt.show()"
   ]
  }
 ],
 "metadata": {
  "kernelspec": {
   "display_name": "Python 3 (ipykernel)",
   "language": "python",
   "name": "python3"
  },
  "language_info": {
   "codemirror_mode": {
    "name": "ipython",
    "version": 3
   },
   "file_extension": ".py",
   "mimetype": "text/x-python",
   "name": "python",
   "nbconvert_exporter": "python",
   "pygments_lexer": "ipython3",
   "version": "3.9.12"
  }
 },
 "nbformat": 4,
 "nbformat_minor": 5
}
