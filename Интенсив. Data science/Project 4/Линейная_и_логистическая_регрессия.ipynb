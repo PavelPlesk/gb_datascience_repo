{
 "cells": [
  {
   "cell_type": "markdown",
   "metadata": {
    "id": "A63Zn9-yCFzU"
   },
   "source": [
    "## Линейная регрессия"
   ]
  },
  {
   "cell_type": "code",
   "execution_count": 1,
   "metadata": {
    "id": "EHZa6o_qW1LR"
   },
   "outputs": [],
   "source": [
    "import numpy as np\n",
    "import operator\n",
    "import pandas as pd # Для работы с данными\n",
    "import scipy.stats # При работе со статистикой\n",
    "import matplotlib.pyplot as plt  # Библиотека для визуализации результатов\n",
    "%matplotlib inline"
   ]
  },
  {
   "cell_type": "code",
   "execution_count": 2,
   "metadata": {
    "id": "qlEjVLBEW1Lg"
   },
   "outputs": [],
   "source": [
    "from sklearn.linear_model import LinearRegression # линейная регрессия"
   ]
  },
  {
   "cell_type": "markdown",
   "metadata": {
    "id": "VnCsa5zrW1Ln"
   },
   "source": [
    "### Практика на собственном датасете"
   ]
  },
  {
   "cell_type": "code",
   "execution_count": 3,
   "metadata": {
    "id": "LwnJCH2yW1Ln"
   },
   "outputs": [],
   "source": [
    "from sklearn.metrics import mean_squared_error, r2_score # подгружаем метрику mse и r2\n",
    "from sklearn.preprocessing import PolynomialFeatures"
   ]
  },
  {
   "cell_type": "code",
   "execution_count": 4,
   "metadata": {
    "id": "VqJGPi31W1Ln"
   },
   "outputs": [],
   "source": [
    "np.random.seed(0)\n",
    "x = 2 - 3 * np.random.normal(0, 1, 20)\n",
    "y = x - 2 * (x ** 2) + 0.5 * (x ** 3) + np.random.normal(-3, 3, 20) # заданы параметры при степенях\n",
    "\n",
    "# преобразуем данный чтобы добавить новые оси\n",
    "x = x[:, np.newaxis]\n",
    "y = y[:, np.newaxis]"
   ]
  },
  {
   "cell_type": "code",
   "execution_count": 5,
   "metadata": {
    "colab": {
     "base_uri": "https://localhost:8080/"
    },
    "id": "sG6iiGhmdfPl",
    "outputId": "073c94e7-902b-4399-9761-3ca3a6d4eb5d"
   },
   "outputs": [
    {
     "data": {
      "text/plain": [
       "(20, 1)"
      ]
     },
     "execution_count": 5,
     "metadata": {},
     "output_type": "execute_result"
    }
   ],
   "source": [
    "x.shape"
   ]
  },
  {
   "cell_type": "code",
   "execution_count": 6,
   "metadata": {
    "colab": {
     "base_uri": "https://localhost:8080/",
     "height": 483
    },
    "id": "k2kpSrwA_D3K",
    "outputId": "3273cacb-d639-48c9-9432-35f14e816e0b"
   },
   "outputs": [
    {
     "data": {
      "image/png": "[encoded data removed]",
      "text/plain": [
       "<Figure size 720x576 with 1 Axes>"
      ]
     },
     "metadata": {
      "needs_background": "light"
     },
     "output_type": "display_data"
    }
   ],
   "source": [
    "plt.figure(figsize=(10, 8))\n",
    "plt.scatter(x, y, s=30);"
   ]
  },
  {
   "cell_type": "code",
   "execution_count": 7,
   "metadata": {
    "colab": {
     "base_uri": "https://localhost:8080/"
    },
    "id": "Q56jbZiS_Jvg",
    "outputId": "8d997414-73a6-4936-bb78-86b2e0345758"
   },
   "outputs": [
    {
     "data": {
      "text/plain": [
       "LinearRegression()"
      ]
     },
     "execution_count": 7,
     "metadata": {},
     "output_type": "execute_result"
    }
   ],
   "source": [
    "model = LinearRegression() \n",
    "model.fit(x, y)"
   ]
  },
  {
   "cell_type": "code",
   "execution_count": 8,
   "metadata": {
    "colab": {
     "base_uri": "https://localhost:8080/"
    },
    "id": "PlvzPlyC_KLh",
    "outputId": "3956727b-2330-4468-9ca9-0afa1dbbf3be"
   },
   "outputs": [
    {
     "data": {
      "text/plain": [
       "(array([[8.29238755]]), array([-16.79645067]))"
      ]
     },
     "execution_count": 8,
     "metadata": {},
     "output_type": "execute_result"
    }
   ],
   "source": [
    "model.coef_, model.intercept_"
   ]
  },
  {
   "cell_type": "code",
   "execution_count": 9,
   "metadata": {
    "colab": {
     "base_uri": "https://localhost:8080/",
     "height": 483
    },
    "id": "EpQK-yXs_PA6",
    "outputId": "0d379895-2977-4e44-f53d-f23d3050bd65"
   },
   "outputs": [
    {
     "data": {
      "image/png": "[encoded data removed]",
      "text/plain": [
       "<Figure size 720x576 with 1 Axes>"
      ]
     },
     "metadata": {
      "needs_background": "light"
     },
     "output_type": "display_data"
    }
   ],
   "source": [
    "plt.figure(figsize=(10, 8))\n",
    "\n",
    "line_x = np.arange(-5, 7)\n",
    "line_y = np.squeeze(model.coef_ * line_x + model.intercept_)\n",
    "plt.plot(line_x, line_y, color='m')\n",
    "plt.scatter(x, y, s=30);"
   ]
  },
  {
   "cell_type": "code",
   "execution_count": 10,
   "metadata": {
    "colab": {
     "base_uri": "https://localhost:8080/"
    },
    "id": "KLiy32RFAJOd",
    "outputId": "42bb789e-f250-4289-eec6-11e60b091014"
   },
   "outputs": [
    {
     "data": {
      "text/plain": [
       "array([[-44.09629271],\n",
       "       [-10.16645153],\n",
       "       [-24.5598996 ],\n",
       "       [-55.95874018],\n",
       "       [-46.67121946],\n",
       "       [ 24.10022521],\n",
       "       [-23.84717967],\n",
       "       [  3.55366232],\n",
       "       [  2.35611659],\n",
       "       [-10.42620129],\n",
       "       [ -3.79507092],\n",
       "       [-36.38987415],\n",
       "       [-19.14413485],\n",
       "       [ -3.23860475],\n",
       "       [-11.25373341],\n",
       "       [ -8.51254609],\n",
       "       [-37.38012369],\n",
       "       [  4.89207993],\n",
       "       [ -7.99991171],\n",
       "       [ 21.03580306]])"
      ]
     },
     "execution_count": 10,
     "metadata": {},
     "output_type": "execute_result"
    }
   ],
   "source": [
    "pred = model.predict(x)\n",
    "pred"
   ]
  },
  {
   "cell_type": "code",
   "execution_count": 11,
   "metadata": {
    "colab": {
     "base_uri": "https://localhost:8080/"
    },
    "id": "PoNKZtcFAN9z",
    "outputId": "17146551-5ca9-4fdc-a1a2-9b5c3cd04166"
   },
   "outputs": [
    {
     "data": {
      "text/plain": [
       "array([[-44.09629271]])"
      ]
     },
     "execution_count": 11,
     "metadata": {},
     "output_type": "execute_result"
    }
   ],
   "source": [
    "x[0] * model.coef_ + model.intercept_"
   ]
  },
  {
   "cell_type": "code",
   "execution_count": 12,
   "metadata": {
    "colab": {
     "base_uri": "https://localhost:8080/"
    },
    "id": "20rWPRwRASpn",
    "outputId": "c612c3e9-1d3c-4bb3-be3d-e21b3f3ecddf"
   },
   "outputs": [
    {
     "data": {
      "text/plain": [
       "array([-53.46841187])"
      ]
     },
     "execution_count": 12,
     "metadata": {},
     "output_type": "execute_result"
    }
   ],
   "source": [
    "y[0]"
   ]
  },
  {
   "cell_type": "code",
   "execution_count": 13,
   "metadata": {
    "colab": {
     "base_uri": "https://localhost:8080/"
    },
    "id": "g94dWrOwW1Lo",
    "outputId": "b504de05-7605-441f-e72b-13c5eda6effa"
   },
   "outputs": [
    {
     "name": "stdout",
     "output_type": "stream",
     "text": [
      "RMSE: 15.908242501429998\n",
      "R2: 0.6386750054827146\n"
     ]
    }
   ],
   "source": [
    "# считаем метрику RMSE и R2\n",
    "rmse = np.sqrt(mean_squared_error(y, pred, ))\n",
    "r2 = r2_score(y, pred)\n",
    "print('RMSE:', rmse)\n",
    "print('R2:', r2)"
   ]
  },
  {
   "cell_type": "markdown",
   "metadata": {
    "id": "hMBdFw_lIxRC"
   },
   "source": [
    "#### Полиномиальная регрессия"
   ]
  },
  {
   "cell_type": "markdown",
   "metadata": {
    "id": "EA7TOKN7W1Lo"
   },
   "source": [
    "<p>Видим, что линейная модель описывает наши данные не очень хорошо. Это можно понять и по MSE, R2, и исходя из графика. Попробуем построить полиномиальную регрессию.</p>"
   ]
  },
  {
   "cell_type": "code",
   "execution_count": 14,
   "metadata": {
    "id": "pTtE2d1rfK2p"
   },
   "outputs": [],
   "source": [
    "# pd.DataFrame({\n",
    "#     'a': [2],\n",
    "#     'b': [3]\n",
    "# })"
   ]
  },
  {
   "cell_type": "code",
   "execution_count": 15,
   "metadata": {
    "id": "qMthzEYffQF5"
   },
   "outputs": [],
   "source": [
    "# degree = 2\n",
    "\n",
    "# 1, 2, 4, 6, 9"
   ]
  },
  {
   "cell_type": "code",
   "execution_count": 16,
   "metadata": {
    "id": "9gr-OhH8W1Lp"
   },
   "outputs": [],
   "source": [
    "# sklearn генерирует допольнительное кол-во признаков для полиномиальной регресии\n",
    "polynomial_features = PolynomialFeatures(degree=2) # указываем вторую степень полинома\n",
    "x_poly = polynomial_features.fit_transform(x) # получаем новые признаки"
   ]
  },
  {
   "cell_type": "code",
   "execution_count": 17,
   "metadata": {
    "colab": {
     "base_uri": "https://localhost:8080/"
    },
    "id": "o4qHkkVgAcbu",
    "outputId": "23dd43cc-0839-4c8d-daae-80fb76612143"
   },
   "outputs": [
    {
     "data": {
      "text/plain": [
       "array([[ 1.        , -3.29215704, 10.83829796],\n",
       "       [ 1.        ,  0.79952837,  0.63924562],\n",
       "       [ 1.        , -0.93621395,  0.87649656],\n",
       "       [ 1.        , -4.7226796 , 22.30370258],\n",
       "       [ 1.        , -3.60267397, 12.97925974],\n",
       "       [ 1.        ,  4.93183364, 24.32298305],\n",
       "       [ 1.        , -0.85026525,  0.722951  ],\n",
       "       [ 1.        ,  2.45407162,  6.02246754],\n",
       "       [ 1.        ,  2.30965656,  5.3345134 ],\n",
       "       [ 1.        ,  0.76820449,  0.59013814],\n",
       "       [ 1.        ,  1.56786929,  2.4582141 ],\n",
       "       [ 1.        , -2.36282052,  5.58292081],\n",
       "       [ 1.        , -0.28311318,  0.08015307],\n",
       "       [ 1.        ,  1.63497495,  2.67314309],\n",
       "       [ 1.        ,  0.6684103 ,  0.44677233],\n",
       "       [ 1.        ,  0.99897702,  0.99795508],\n",
       "       [ 1.        , -2.48223722,  6.16150161],\n",
       "       [ 1.        ,  2.61547479,  6.84070838],\n",
       "       [ 1.        ,  1.0607969 ,  1.12529005],\n",
       "       [ 1.        ,  4.56228722, 20.81446466]])"
      ]
     },
     "execution_count": 17,
     "metadata": {},
     "output_type": "execute_result"
    }
   ],
   "source": [
    "x_poly"
   ]
  },
  {
   "cell_type": "code",
   "execution_count": 18,
   "metadata": {
    "colab": {
     "base_uri": "https://localhost:8080/",
     "height": 573
    },
    "id": "iRWX5bIXW1Lp",
    "outputId": "d7fd52f4-41b9-4ecd-967c-d733db7a6dcc"
   },
   "outputs": [
    {
     "name": "stdout",
     "output_type": "stream",
     "text": [
      "RMSE: 10.120437473614711\n",
      "R2: 0.8537647164420812\n"
     ]
    },
    {
     "data": {
      "image/png": "[encoded data removed]",
      "text/plain": [
       "<Figure size 864x648 with 1 Axes>"
      ]
     },
     "metadata": {
      "needs_background": "light"
     },
     "output_type": "display_data"
    }
   ],
   "source": [
    "# теперь подаем эти признаки в линейную регресиию\n",
    "# и проделаем все те же самые операции\n",
    "model = LinearRegression() \n",
    "model.fit(x_poly, y)\n",
    "y_poly_pred = model.predict(x_poly)\n",
    "plt.figure(figsize=(12,9))\n",
    "\n",
    "\n",
    "rmse = np.sqrt(mean_squared_error(y, y_poly_pred))\n",
    "r2 = r2_score(y, y_poly_pred)\n",
    "print('RMSE:', rmse)\n",
    "print('R2:', r2)\n",
    "plt.scatter(x, y, s=10)\n",
    "\n",
    "sort_axis = operator.itemgetter(0)\n",
    "sorted_zip = sorted(zip(x, y_poly_pred), key=sort_axis)\n",
    "x_, y_poly_pred = zip(*sorted_zip)\n",
    "\n",
    "plt.plot(x_, y_poly_pred, color='m')\n",
    "plt.show()"
   ]
  },
  {
   "cell_type": "markdown",
   "metadata": {
    "id": "XHzBjempW1Lp"
   },
   "source": [
    "<p>Проделаем то же самое, например, для 3 степени.</p>"
   ]
  },
  {
   "cell_type": "code",
   "execution_count": 19,
   "metadata": {
    "colab": {
     "base_uri": "https://localhost:8080/",
     "height": 573
    },
    "id": "NZl7yRjNW1Lq",
    "outputId": "3a6f40a5-f1d3-48eb-fa27-fbaf5ed25c5f"
   },
   "outputs": [
    {
     "name": "stdout",
     "output_type": "stream",
     "text": [
      "RMSE: 3.449895507408725\n",
      "R2: 0.9830071790386679\n"
     ]
    },
    {
     "data": {
      "image/png": "[encoded data removed]",
      "text/plain": [
       "<Figure size 864x648 with 1 Axes>"
      ]
     },
     "metadata": {
      "needs_background": "light"
     },
     "output_type": "display_data"
    }
   ],
   "source": [
    "polynomial_features = PolynomialFeatures(degree=3)\n",
    "x_poly = polynomial_features.fit_transform(x)\n",
    "\n",
    "model = LinearRegression() \n",
    "model.fit(x_poly, y)\n",
    "y_poly_pred = model.predict(x_poly)\n",
    "plt.figure(figsize=(12,9))\n",
    "\n",
    "\n",
    "rmse = np.sqrt(mean_squared_error(y, y_poly_pred))\n",
    "r2 = r2_score(y, y_poly_pred)\n",
    "print('RMSE:', rmse)\n",
    "print('R2:', r2)\n",
    "plt.scatter(x, y, s=10)\n",
    "\n",
    "sort_axis = operator.itemgetter(0)\n",
    "sorted_zip = sorted(zip(x, y_poly_pred), key=sort_axis)\n",
    "x_, y_poly_pred = zip(*sorted_zip)\n",
    "\n",
    "plt.plot(x_, y_poly_pred, color='m')\n",
    "plt.show()"
   ]
  },
  {
   "cell_type": "code",
   "execution_count": 20,
   "metadata": {
    "colab": {
     "base_uri": "https://localhost:8080/"
    },
    "id": "DHuEmULmg8vU",
    "outputId": "75a1fb58-dd68-4129-9bb8-2c58d66e27ea"
   },
   "outputs": [
    {
     "data": {
      "text/plain": [
       "array([[ 0.        ,  0.99141388, -2.10330137,  0.49338043]])"
      ]
     },
     "execution_count": 20,
     "metadata": {},
     "output_type": "execute_result"
    }
   ],
   "source": [
    "model.coef_"
   ]
  },
  {
   "cell_type": "markdown",
   "metadata": {
    "id": "XOSUCRNQW1Lq"
   },
   "source": [
    "<p>Видим, что с увеличением степени MSE и R2 упали до приемлемых значений, и наша модель достаточно хорошо описывается 3 степенью. Но стоит помнить, что чем больше мы задаём степень полинома, тем точнее полином будет накладываться на значения, и модель будет переобучаться, поэтому с этим надо быть осторожным. О переобучении речь будет идти в следующих уроках.</p>"
   ]
  },
  {
   "cell_type": "markdown",
   "metadata": {
    "id": "i5--a0QWDLon"
   },
   "source": [
    "## Логистическая регрессия"
   ]
  },
  {
   "cell_type": "code",
   "execution_count": 21,
   "metadata": {
    "id": "sxvmZUeSG8m0"
   },
   "outputs": [],
   "source": [
    "from sklearn import datasets\n",
    "from sklearn.pipeline import make_pipeline\n",
    "from sklearn.linear_model import LogisticRegression"
   ]
  },
  {
   "cell_type": "code",
   "execution_count": 24,
   "metadata": {
    "colab": {
     "base_uri": "https://localhost:8080/"
    },
    "id": "nnAa7C6KG8m0",
    "outputId": "00a1720e-5a76-4e47-a398-f12257d3f83f"
   },
   "outputs": [
    {
     "data": {
      "text/plain": [
       "array([[ 1.23020423e+00, -9.87179836e-01],\n",
       "       [-7.01939166e-01,  3.17631796e-01],\n",
       "       [-1.08751331e+00,  1.61578263e+00],\n",
       "       [-9.00803838e-01, -1.57968969e+00],\n",
       "       [-1.46031271e+00,  7.29759487e-01],\n",
       "       [-1.24104620e+00,  6.89266237e-01],\n",
       "       [-2.04789476e+00, -7.66457149e-01],\n",
       "       [-1.28266283e+00,  4.81785391e-01],\n",
       "       [ 7.44473957e-01,  1.41311226e+00],\n",
       "       [-2.78030289e+00, -5.34775584e-01],\n",
       "       [-8.45582306e-01, -6.27896560e-01],\n",
       "       [ 2.92390384e-01, -1.29187498e+00],\n",
       "       [ 5.23676999e-01, -7.62128373e-01],\n",
       "       [ 6.30503424e-01,  1.80146793e+00],\n",
       "       [ 2.54404497e+00,  2.61425892e-01],\n",
       "       [-7.15060658e-02, -1.04404916e-01],\n",
       "       [-3.70488129e-01,  1.42031763e+00],\n",
       "       [ 2.08422059e+00, -1.44666827e+00],\n",
       "       [-6.89671916e-01, -1.65752878e-01],\n",
       "       [ 1.87867631e+00,  2.24412997e-01],\n",
       "       [-7.72578199e-01, -5.84716655e-02],\n",
       "       [ 1.03948915e+00, -1.20154228e+00],\n",
       "       [-5.93619101e-01, -1.09787720e+00],\n",
       "       [-9.22514239e-01,  1.43979166e+00],\n",
       "       [ 4.26311244e+00, -6.82660376e-03],\n",
       "       [-7.03134918e-01,  2.16325750e+00],\n",
       "       [ 7.08682975e-01,  7.66583441e-01],\n",
       "       [ 6.39970005e-01, -9.54428653e-01],\n",
       "       [ 9.82998091e-01,  7.35512588e-01],\n",
       "       [-6.84726338e-01, -5.86407105e-01],\n",
       "       [-6.30397300e-01, -9.64799582e-01],\n",
       "       [-1.26796367e+00,  1.53291452e+00],\n",
       "       [-1.36148320e+00,  1.79598318e+00],\n",
       "       [-8.91267378e-01,  1.64430600e+00],\n",
       "       [ 7.88314745e-01,  1.15731186e+00],\n",
       "       [ 1.46967086e+00,  1.10030048e+00],\n",
       "       [ 1.80571435e+00, -9.25020399e-01],\n",
       "       [ 3.60195657e-02,  1.36402640e+00],\n",
       "       [-2.60560957e-01, -1.28781804e+00],\n",
       "       [-7.07196330e-01,  1.35972606e+00],\n",
       "       [-6.05677634e-01, -1.24915860e+00],\n",
       "       [-4.08944927e-01, -6.56846503e-01],\n",
       "       [-1.66510772e+00,  1.05551186e+00],\n",
       "       [-6.49629237e-01,  4.54500094e-01],\n",
       "       [ 1.03375201e+00, -1.26559209e+00],\n",
       "       [-6.49261104e-01, -1.24619480e+00],\n",
       "       [ 1.08996755e+00, -5.50755395e-01],\n",
       "       [-1.04740113e+00, -7.51056834e-02],\n",
       "       [-1.36825634e+00, -3.94384567e-01],\n",
       "       [-9.78070664e-01,  6.06796774e-01],\n",
       "       [ 9.56141896e-01, -9.14023386e-01],\n",
       "       [-8.99895887e-01,  8.22986158e-01],\n",
       "       [ 1.61802900e+00, -1.15364277e+00],\n",
       "       [ 3.73560817e-01,  1.66344493e+00],\n",
       "       [-1.34723572e+00,  6.50371568e-01],\n",
       "       [ 5.96843559e-01, -9.92013476e-01],\n",
       "       [ 1.31561901e+00, -1.06781948e+00],\n",
       "       [ 2.88861254e+00, -1.02170728e+00],\n",
       "       [-1.48365179e+00, -1.11449015e+00],\n",
       "       [ 1.63964213e+00,  7.55861458e-01],\n",
       "       [-7.14560291e-01, -7.64059217e-01],\n",
       "       [ 4.18128707e-01, -1.00174936e+00],\n",
       "       [-1.26155679e+00, -1.19685818e+00],\n",
       "       [-7.02234270e-01, -1.70531937e+00],\n",
       "       [-6.60866358e-01, -1.03167318e+00],\n",
       "       [ 1.13889499e+00, -8.80015705e-01],\n",
       "       [ 1.31515134e+00, -9.79232739e-01],\n",
       "       [-1.31862667e+00, -7.89816228e-01],\n",
       "       [-7.54196992e-01,  4.29347537e-01],\n",
       "       [-8.67852912e-01, -1.01767522e+00],\n",
       "       [-8.73997503e-01,  9.20364276e-01],\n",
       "       [ 1.65320434e-01, -2.56914453e+00],\n",
       "       [-1.18874275e+00, -1.76741958e+00],\n",
       "       [-1.00827143e+00,  2.55795745e-01],\n",
       "       [ 1.48071474e+00,  2.20950686e-01],\n",
       "       [-1.06169475e+00, -8.04171891e-01],\n",
       "       [-1.84995612e+00, -1.54364540e+00],\n",
       "       [ 1.37759408e+00, -1.56545575e+00],\n",
       "       [-1.68857418e+00,  1.95206630e+00],\n",
       "       [ 2.41102645e+00, -3.86136046e-01],\n",
       "       [ 7.32221941e-01, -9.80644217e-01],\n",
       "       [ 1.32246403e+00,  8.21264579e-01],\n",
       "       [ 8.42447759e-01,  7.37913925e-01],\n",
       "       [ 4.90492214e-01,  2.28083568e+00],\n",
       "       [-3.51515044e-01, -2.20490975e-01],\n",
       "       [ 1.42292475e+00,  7.48498387e-01],\n",
       "       [-9.33826958e-01,  1.25818972e+00],\n",
       "       [ 1.94422892e+00,  3.24620162e-01],\n",
       "       [-9.05696758e-01,  7.37192179e-01],\n",
       "       [ 2.29753397e+00,  1.85131476e-01],\n",
       "       [ 1.25205858e+00,  3.84814049e-01],\n",
       "       [-2.17706432e+00, -2.78507603e-02],\n",
       "       [-1.11157673e+00, -2.06613892e+00],\n",
       "       [-1.87523145e+00, -5.59375440e-01],\n",
       "       [ 7.30809497e-01,  8.01285335e-01],\n",
       "       [ 1.63179683e+00, -8.52007835e-01],\n",
       "       [-6.99185432e-01,  1.22076153e+00],\n",
       "       [ 3.78315099e-02,  1.52137879e+00],\n",
       "       [ 1.70120009e+00, -6.16977167e-01],\n",
       "       [-1.43842791e+00,  2.30633484e-03]])"
      ]
     },
     "execution_count": 24,
     "metadata": {},
     "output_type": "execute_result"
    }
   ],
   "source": [
    "X, y = datasets.make_classification(n_samples=100, \n",
    "                                    n_features=2,\n",
    "                                    n_informative=2,\n",
    "                                    n_redundant=0,\n",
    "                                    random_state=10)\n",
    "X"
   ]
  },
  {
   "cell_type": "code",
   "execution_count": 25,
   "metadata": {
    "colab": {
     "base_uri": "https://localhost:8080/",
     "height": 483
    },
    "id": "4trxBc9GFx84",
    "outputId": "cfa4c0c9-417c-48a0-afde-3123847d26b6"
   },
   "outputs": [
    {
     "data": {
      "image/png": "[encoded data removed]",
      "text/plain": [
       "<Figure size 576x576 with 1 Axes>"
      ]
     },
     "metadata": {
      "needs_background": "light"
     },
     "output_type": "display_data"
    }
   ],
   "source": [
    "plt.figure(figsize=(8, 8))\n",
    "plt.scatter(X[:,0], X[:, 1], c=y);"
   ]
  },
  {
   "cell_type": "code",
   "execution_count": 26,
   "metadata": {
    "colab": {
     "base_uri": "https://localhost:8080/"
    },
    "id": "dJhtuVJhG8m1",
    "outputId": "8666257b-e7e3-4a8a-b5a8-e42fe9d14f17"
   },
   "outputs": [
    {
     "data": {
      "text/plain": [
       "LogisticRegression()"
      ]
     },
     "execution_count": 26,
     "metadata": {},
     "output_type": "execute_result"
    }
   ],
   "source": [
    "model = LogisticRegression() \n",
    "\n",
    "model.fit(X, y)"
   ]
  },
  {
   "cell_type": "code",
   "execution_count": 27,
   "metadata": {
    "colab": {
     "base_uri": "https://localhost:8080/"
    },
    "id": "_7PJST4PhiTH",
    "outputId": "95d17416-b455-447c-9beb-7b60a7d3d91a"
   },
   "outputs": [
    {
     "data": {
      "text/plain": [
       "array([[2.86869171, 0.22241055]])"
      ]
     },
     "execution_count": 27,
     "metadata": {},
     "output_type": "execute_result"
    }
   ],
   "source": [
    "model.coef_"
   ]
  },
  {
   "cell_type": "code",
   "execution_count": 28,
   "metadata": {
    "colab": {
     "base_uri": "https://localhost:8080/"
    },
    "id": "j9a2RWq5ogGe",
    "outputId": "d64ce9be-db24-47aa-dae8-3eb415afc12f"
   },
   "outputs": [
    {
     "data": {
      "text/plain": [
       "0.92"
      ]
     },
     "execution_count": 28,
     "metadata": {},
     "output_type": "execute_result"
    }
   ],
   "source": [
    "model.score(X, y)"
   ]
  },
  {
   "cell_type": "code",
   "execution_count": 29,
   "metadata": {
    "colab": {
     "base_uri": "https://localhost:8080/"
    },
    "id": "T9k7kB-eEVcU",
    "outputId": "da98f58c-8aca-40df-ee11-1e6cc2e69414"
   },
   "outputs": [
    {
     "data": {
      "text/plain": [
       "array([1, 0, 0, 0, 0, 0, 0, 0, 1, 0, 0, 1, 1, 1, 1, 1, 0, 1, 0, 1, 0, 1,\n",
       "       0, 0, 1, 0, 1, 1, 1, 0, 0, 0, 0, 0, 1, 1, 1, 1, 0, 0, 0, 0, 0, 0,\n",
       "       1, 0, 1, 0, 0, 0, 1, 0, 1, 1, 0, 1, 1, 1, 0, 1, 0, 1, 0, 0, 0, 1,\n",
       "       1, 0, 0, 0, 0, 1, 0, 0, 1, 0, 0, 1, 0, 1, 1, 1, 1, 1, 0, 1, 0, 1,\n",
       "       0, 1, 1, 0, 0, 0, 1, 1, 0, 1, 1, 0])"
      ]
     },
     "execution_count": 29,
     "metadata": {},
     "output_type": "execute_result"
    }
   ],
   "source": [
    "model.predict(X)"
   ]
  },
  {
   "cell_type": "code",
   "execution_count": 30,
   "metadata": {
    "colab": {
     "base_uri": "https://localhost:8080/"
    },
    "id": "DxVpHYGNEWoW",
    "outputId": "6382fffc-3b0c-4ea2-c742-49a91aa0ccfb"
   },
   "outputs": [
    {
     "data": {
      "text/plain": [
       "array([[1.98730686e-02, 9.80126931e-01],\n",
       "       [7.94815960e-01, 2.05184040e-01],\n",
       "       [8.97667661e-01, 1.02332339e-01],\n",
       "       [9.12669098e-01, 8.73309017e-02],\n",
       "       [9.68873715e-01, 3.11262853e-02],\n",
       "       [9.43645034e-01, 5.63549660e-02],\n",
       "       [9.95749452e-01, 4.25054803e-03],\n",
       "       [9.51828207e-01, 4.81717928e-02],\n",
       "       [4.57053774e-02, 9.54294623e-01],\n",
       "       [9.99450511e-01, 5.49488841e-04],\n",
       "       [8.78314686e-01, 1.21685314e-01],\n",
       "       [2.42274391e-01, 7.57725609e-01],\n",
       "       [1.27687526e-01, 8.72312474e-01],\n",
       "       [5.74223573e-02, 9.42577643e-01],\n",
       "       [3.54295904e-04, 9.99645704e-01],\n",
       "       [4.10850751e-01, 5.89149249e-01],\n",
       "       [5.39448703e-01, 4.60551297e-01],\n",
       "       [1.93438186e-03, 9.98065618e-01],\n",
       "       [8.06358849e-01, 1.93641151e-01],\n",
       "       [2.40438428e-03, 9.97595616e-01],\n",
       "       [8.37602178e-01, 1.62397822e-01],\n",
       "       [3.54500356e-02, 9.64549964e-01],\n",
       "       [7.95481722e-01, 2.04518278e-01],\n",
       "       [8.50354601e-01, 1.49645399e-01],\n",
       "       [2.71467343e-06, 9.99997285e-01],\n",
       "       [7.20541030e-01, 2.79458970e-01],\n",
       "       [5.77423233e-02, 9.42257677e-01],\n",
       "       [9.86424074e-02, 9.01357593e-01],\n",
       "       [2.73235273e-02, 9.72676473e-01],\n",
       "       [8.18451715e-01, 1.81548285e-01],\n",
       "       [8.07554565e-01, 1.92445435e-01],\n",
       "       [9.37477213e-01, 6.25227871e-02],\n",
       "       [9.48701409e-01, 5.12985911e-02],\n",
       "       [8.32334181e-01, 1.67665819e-01],\n",
       "       [4.27936407e-02, 9.57206359e-01],\n",
       "       [6.37136243e-03, 9.93628638e-01],\n",
       "       [3.82218836e-03, 9.96177812e-01],\n",
       "       [2.69826693e-01, 7.30173307e-01],\n",
       "       [6.09472212e-01, 3.90527788e-01],\n",
       "       [7.57222488e-01, 2.42777512e-01],\n",
       "       [8.06359967e-01, 1.93640033e-01],\n",
       "       [6.74899049e-01, 3.25100951e-01],\n",
       "       [9.81166863e-01, 1.88331372e-02],\n",
       "       [7.63813382e-01, 2.36186618e-01],\n",
       "       [3.65149942e-02, 9.63485006e-01],\n",
       "       [8.25043346e-01, 1.74956654e-01],\n",
       "       [2.67765755e-02, 9.73223425e-01],\n",
       "       [9.19277902e-01, 8.07220981e-02],\n",
       "       [9.68446898e-01, 3.15531016e-02],\n",
       "       [8.89143893e-01, 1.10856107e-01],\n",
       "       [4.19513864e-02, 9.58048614e-01],\n",
       "       [8.59323669e-01, 1.40676331e-01],\n",
       "       [6.86900564e-03, 9.93130994e-01],\n",
       "       [1.16048123e-01, 8.83951877e-01],\n",
       "       [9.58167750e-01, 4.18322502e-02],\n",
       "       [1.11023880e-01, 8.88976120e-01],\n",
       "       [1.58999720e-02, 9.84100028e-01],\n",
       "       [1.75429205e-04, 9.99824571e-01],\n",
       "       [9.80453420e-01, 1.95465796e-02],\n",
       "       [4.23326901e-03, 9.95766731e-01],\n",
       "       [8.36305059e-01, 1.63694941e-01],\n",
       "       [1.72861440e-01, 8.27138560e-01],\n",
       "       [9.64305524e-01, 3.56944758e-02],\n",
       "       [8.58753521e-01, 1.41246479e-01],\n",
       "       [8.22952102e-01, 1.77047898e-01],\n",
       "       [2.50817531e-02, 9.74918247e-01],\n",
       "       [1.56152134e-02, 9.84384787e-01],\n",
       "       [9.66740759e-01, 3.32592413e-02],\n",
       "       [8.14462005e-01, 1.85537995e-01],\n",
       "       [8.93513670e-01, 1.06486330e-01],\n",
       "       [8.47319654e-01, 1.52680346e-01],\n",
       "       [3.79505498e-01, 6.20494502e-01],\n",
       "       [9.61373711e-01, 3.86262895e-02],\n",
       "       [9.04368019e-01, 9.56319814e-02],\n",
       "       [7.49753633e-03, 9.92502464e-01],\n",
       "       [9.33126132e-01, 6.68738676e-02],\n",
       "       [9.93703705e-01, 6.29629529e-03],\n",
       "       [1.48833343e-02, 9.85116666e-01],\n",
       "       [9.78564525e-01, 2.14354752e-02],\n",
       "       [5.99143546e-04, 9.99400856e-01],\n",
       "       [7.79010904e-02, 9.22098910e-01],\n",
       "       [1.03006047e-02, 9.89699395e-01],\n",
       "       [4.03242712e-02, 9.59675729e-01],\n",
       "       [7.56375074e-02, 9.24362493e-01],\n",
       "       [6.15059128e-01, 3.84940872e-01],\n",
       "       [7.86680364e-03, 9.92133196e-01],\n",
       "       [8.59389409e-01, 1.40610591e-01],\n",
       "       [1.94918764e-03, 9.98050812e-01],\n",
       "       [8.63586850e-01, 1.36413150e-01],\n",
       "       [7.30616475e-04, 9.99269384e-01],\n",
       "       [1.38413614e-02, 9.86158639e-01],\n",
       "       [9.96538968e-01, 3.46103168e-03],\n",
       "       [9.55191025e-01, 4.48089748e-02],\n",
       "       [9.92718229e-01, 7.28177087e-03],\n",
       "       [5.39886561e-02, 9.46011344e-01],\n",
       "       [6.17884649e-03, 9.93821154e-01],\n",
       "       [7.58676675e-01, 2.41323325e-01],\n",
       "       [2.61981156e-01, 7.38018844e-01],\n",
       "       [4.81211180e-03, 9.95187888e-01],\n",
       "       [9.71724981e-01, 2.82750192e-02]])"
      ]
     },
     "execution_count": 30,
     "metadata": {},
     "output_type": "execute_result"
    }
   ],
   "source": [
    "model.predict_proba(X)"
   ]
  },
  {
   "cell_type": "code",
   "execution_count": 31,
   "metadata": {
    "id": "jy6eR6-2G8m2"
   },
   "outputs": [],
   "source": [
    "import numpy as np\n",
    "import matplotlib.pyplot as plt"
   ]
  },
  {
   "cell_type": "markdown",
   "metadata": {
    "id": "NVnmiNsKG8m2"
   },
   "source": [
    "<p>Так разделяет регрессия:</p>"
   ]
  },
  {
   "cell_type": "code",
   "execution_count": 32,
   "metadata": {
    "colab": {
     "base_uri": "https://localhost:8080/",
     "height": 497
    },
    "id": "_EQ-gzIJG8m2",
    "outputId": "2e2bd45c-dd76-49cb-9bae-79c06b0660d3"
   },
   "outputs": [
    {
     "data": {
      "image/png": "[encoded data removed]",
      "text/plain": [
       "<Figure size 576x576 with 1 Axes>"
      ]
     },
     "metadata": {
      "needs_background": "light"
     },
     "output_type": "display_data"
    }
   ],
   "source": [
    "x_min, x_max = X[:,0].min() - .5, X[:,0].max() + .5\n",
    "y_min, y_max = X[:,1].min() - .5, X[:,1].max() + .5\n",
    "\n",
    "h = .01\n",
    "xx, yy = np.meshgrid(np.arange(x_min, x_max, h), np.arange(y_min, y_max, h))\n",
    "Z = model.predict(np.c_[xx.ravel(),yy.ravel()])\n",
    "\n",
    "Z = Z.reshape(xx.shape)\n",
    "plt.figure(1, figsize=(8,8))\n",
    "plt.pcolormesh(xx,yy,Z,cmap=plt.cm.Paired)\n",
    "\n",
    "plt.scatter(X[:,0], X[:,1], c=y, edgecolors='k', cmap=plt.cm.Paired)\n",
    "plt.xlabel('Sepal length')\n",
    "plt.ylabel('Sepal width')\n",
    "\n",
    "plt.xlim(xx.min(), xx.max())\n",
    "plt.ylim(yy.min(), yy.max())\n",
    "plt.xticks()\n",
    "plt.show()"
   ]
  },
  {
   "cell_type": "markdown",
   "metadata": {
    "id": "MTs4wyZ2I1IX"
   },
   "source": [
    "#### Полиномиальная регрессия"
   ]
  },
  {
   "cell_type": "code",
   "execution_count": 38,
   "metadata": {
    "id": "U7yW6OP0E_Lg"
   },
   "outputs": [],
   "source": [
    "pipe = make_pipeline(PolynomialFeatures(degree=7), LogisticRegression())"
   ]
  },
  {
   "cell_type": "code",
   "execution_count": 39,
   "metadata": {
    "colab": {
     "base_uri": "https://localhost:8080/"
    },
    "id": "X8cZmkphEanX",
    "outputId": "83581f27-48eb-403a-a18c-31ec222cf992"
   },
   "outputs": [
    {
     "data": {
      "text/plain": [
       "Pipeline(steps=[('polynomialfeatures', PolynomialFeatures(degree=7)),\n",
       "                ('logisticregression', LogisticRegression())])"
      ]
     },
     "execution_count": 39,
     "metadata": {},
     "output_type": "execute_result"
    }
   ],
   "source": [
    "pipe.fit(X, y)"
   ]
  },
  {
   "cell_type": "code",
   "execution_count": 40,
   "metadata": {
    "colab": {
     "base_uri": "https://localhost:8080/"
    },
    "id": "-xxRTMRbFhvp",
    "outputId": "14a72d30-a08f-4335-a7d4-6fcf96454475"
   },
   "outputs": [
    {
     "data": {
      "text/plain": [
       "array([1, 0, 0, 0, 0, 0, 0, 0, 1, 0, 0, 1, 1, 1, 1, 0, 1, 1, 0, 1, 0, 1,\n",
       "       1, 0, 1, 1, 1, 1, 1, 0, 0, 0, 0, 0, 1, 1, 1, 1, 1, 0, 1, 0, 0, 0,\n",
       "       1, 1, 1, 0, 0, 0, 1, 0, 1, 1, 0, 1, 1, 1, 0, 1, 0, 1, 0, 0, 0, 1,\n",
       "       1, 0, 0, 0, 0, 0, 0, 0, 1, 0, 0, 1, 0, 1, 1, 1, 1, 1, 0, 1, 0, 1,\n",
       "       0, 1, 1, 0, 0, 0, 1, 1, 0, 1, 1, 0])"
      ]
     },
     "execution_count": 40,
     "metadata": {},
     "output_type": "execute_result"
    }
   ],
   "source": [
    "pipe.predict(X)"
   ]
  },
  {
   "cell_type": "code",
   "execution_count": 41,
   "metadata": {
    "colab": {
     "base_uri": "https://localhost:8080/"
    },
    "id": "twYE1fhmGrbg",
    "outputId": "74cbe2a7-c59c-43f7-f524-5a0a005d26c1"
   },
   "outputs": [
    {
     "data": {
      "text/plain": [
       "0.98"
      ]
     },
     "execution_count": 41,
     "metadata": {},
     "output_type": "execute_result"
    }
   ],
   "source": [
    "pipe.score(X, y)"
   ]
  },
  {
   "cell_type": "code",
   "execution_count": 42,
   "metadata": {
    "colab": {
     "base_uri": "https://localhost:8080/",
     "height": 497
    },
    "id": "GU6qUohcG8m5",
    "outputId": "fb47e7d0-2e07-4c81-a2f2-003948a1ed31"
   },
   "outputs": [
    {
     "data": {
      "image/png": "[encoded data removed]",
      "text/plain": [
       "<Figure size 576x576 with 1 Axes>"
      ]
     },
     "metadata": {
      "needs_background": "light"
     },
     "output_type": "display_data"
    }
   ],
   "source": [
    "Z = pipe.predict(np.c_[xx.ravel(),yy.ravel()])\n",
    "\n",
    "Z = Z.reshape(xx.shape)\n",
    "plt.figure(1, figsize=(8,8))\n",
    "plt.pcolormesh(xx,yy,Z,cmap=plt.cm.Paired)\n",
    "\n",
    "plt.scatter(X[:,0], X[:,1], c=y, edgecolors='k', cmap=plt.cm.Paired)\n",
    "plt.xlabel('Sepal length')\n",
    "plt.ylabel('Sepal width')\n",
    "\n",
    "plt.xlim(xx.min(), xx.max())\n",
    "plt.ylim(yy.min(), yy.max())\n",
    "plt.xticks()\n",
    "plt.show()"
   ]
  },
  {
   "cell_type": "markdown",
   "metadata": {
    "id": "T5LIrOBopZg8"
   },
   "source": [
    "# Практическое задание"
   ]
  },
  {
   "cell_type": "markdown",
   "metadata": {
    "id": "Qpx9XB80pxE-"
   },
   "source": [
    "#### Fashion MNIST"
   ]
  },
  {
   "cell_type": "code",
   "execution_count": 1,
   "metadata": {
    "id": "ycTyuO1Ot3Rc"
   },
   "outputs": [],
   "source": [
    "import pandas as pd\n",
    "import numpy as np\n",
    "import matplotlib.pyplot as plt"
   ]
  },
  {
   "cell_type": "code",
   "execution_count": 2,
   "metadata": {
    "id": "my81ELEyqxEH"
   },
   "outputs": [],
   "source": [
    "import tensorflow as tf\n",
    "\n",
    "(X_train, y_train), (X_test, y_test) = tf.keras.datasets.fashion_mnist.load_data()"
   ]
  },
  {
   "cell_type": "code",
   "execution_count": 3,
   "metadata": {
    "id": "U6GZHEz3J--X"
   },
   "outputs": [],
   "source": [
    "X_train = tf.image.resize(X_train[..., np.newaxis], (14, 14))[..., 0]\n",
    "X_test = tf.image.resize(X_test[..., np.newaxis], (14, 14))[..., 0]"
   ]
  },
  {
   "cell_type": "code",
   "execution_count": 4,
   "metadata": {
    "colab": {
     "base_uri": "https://localhost:8080/"
    },
    "id": "YmvL8rjqIg4U",
    "outputId": "04bac6be-bd78-4e70-ce79-f1942d1715a3"
   },
   "outputs": [
    {
     "data": {
      "text/plain": [
       "TensorShape([60000, 14, 14])"
      ]
     },
     "execution_count": 4,
     "metadata": {},
     "output_type": "execute_result"
    }
   ],
   "source": [
    "\n",
    "X_train.shape"
   ]
  },
  {
   "cell_type": "code",
   "execution_count": 5,
   "metadata": {
    "colab": {
     "base_uri": "https://localhost:8080/"
    },
    "id": "1Ma8FwH8M3jY",
    "outputId": "9445fde2-a2e5-419e-9ee3-2a5620d0c654"
   },
   "outputs": [
    {
     "data": {
      "text/plain": [
       "TensorShape([10000, 14, 14])"
      ]
     },
     "execution_count": 5,
     "metadata": {},
     "output_type": "execute_result"
    }
   ],
   "source": [
    "X_test.shape"
   ]
  },
  {
   "cell_type": "code",
   "execution_count": 6,
   "metadata": {
    "id": "ChEHBdHQtaEZ"
   },
   "outputs": [],
   "source": [
    "X_train = X_train[:1000]\n",
    "y_train = y_train[:1000]\n",
    "\n",
    "X_test = X_test[:100]\n",
    "y_test = y_test[:100]"
   ]
  },
  {
   "cell_type": "code",
   "execution_count": 7,
   "metadata": {
    "colab": {
     "base_uri": "https://localhost:8080/",
     "height": 374
    },
    "id": "-BxOj4MRs3R7",
    "outputId": "232bb3cc-8746-4c50-c1b3-68b3aed5dec2"
   },
   "outputs": [
    {
     "data": {
      "image/png": "[encoded data removed]",
      "text/plain": [
       "<Figure size 1152x432 with 10 Axes>"
      ]
     },
     "metadata": {
      "needs_background": "light"
     },
     "output_type": "display_data"
    }
   ],
   "source": [
    "import matplotlib.pyplot as plt\n",
    "\n",
    "plt.figure(figsize=(16, 6))\n",
    "for i in range(10):\n",
    "    plt.subplot(2, 5, i + 1)\n",
    "    plt.imshow(X_train[i,:], cmap='gray')"
   ]
  },
  {
   "cell_type": "code",
   "execution_count": 8,
   "metadata": {
    "id": "BdPlkVQkKyyO"
   },
   "outputs": [],
   "source": [
    "X_train = X_train.numpy()\n",
    "X_test = X_test.numpy()"
   ]
  },
  {
   "cell_type": "code",
   "execution_count": 9,
   "metadata": {
    "colab": {
     "base_uri": "https://localhost:8080/"
    },
    "id": "cWb9A6iLsxUq",
    "outputId": "8c5df57c-5780-4851-c457-23e123bb8037"
   },
   "outputs": [
    {
     "data": {
      "text/plain": [
       "(1000, 196)"
      ]
     },
     "execution_count": 9,
     "metadata": {},
     "output_type": "execute_result"
    }
   ],
   "source": [
    "X_train = X_train.reshape(X_train.shape[0], -1)\n",
    "X_test = X_test.reshape(X_test.shape[0], -1)\n",
    "\n",
    "X_train.shape"
   ]
  },
  {
   "cell_type": "markdown",
   "metadata": {
    "id": "OZrmdBJCp6QZ"
   },
   "source": [
    "## Обучение линейной модели"
   ]
  },
  {
   "cell_type": "code",
   "execution_count": 10,
   "metadata": {
    "colab": {
     "base_uri": "https://localhost:8080/"
    },
    "id": "gJQZf8RmVquB",
    "outputId": "ea103c0f-fe33-4ae7-f625-f24ddef61527"
   },
   "outputs": [
    {
     "name": "stderr",
     "output_type": "stream",
     "text": [
      "/usr/local/lib/python3.7/dist-packages/sklearn/linear_model/_logistic.py:818: ConvergenceWarning: lbfgs failed to converge (status=1):\n",
      "STOP: TOTAL NO. of ITERATIONS REACHED LIMIT.\n",
      "\n",
      "Increase the number of iterations (max_iter) or scale the data as shown in:\n",
      "    https://scikit-learn.org/stable/modules/preprocessing.html\n",
      "Please also refer to the documentation for alternative solver options:\n",
      "    https://scikit-learn.org/stable/modules/linear_model.html#logistic-regression\n",
      "  extra_warning_msg=_LOGISTIC_SOLVER_CONVERGENCE_MSG,\n"
     ]
    },
    {
     "data": {
      "text/plain": [
       "LogisticRegression()"
      ]
     },
     "execution_count": 10,
     "metadata": {},
     "output_type": "execute_result"
    }
   ],
   "source": [
    "from sklearn.linear_model import LogisticRegression\n",
    "\n",
    "model = LogisticRegression()\n",
    "model.fit(X_train, y_train)"
   ]
  },
  {
   "cell_type": "markdown",
   "metadata": {
    "id": "gIEs8yLFMo1f"
   },
   "source": [
    "## Валидация"
   ]
  },
  {
   "cell_type": "code",
   "execution_count": 11,
   "metadata": {
    "colab": {
     "base_uri": "https://localhost:8080/"
    },
    "id": "Nj8tuTuTXxVz",
    "outputId": "d805d9c3-6961-46d9-d72e-4ffedbcb6c6a"
   },
   "outputs": [
    {
     "name": "stdout",
     "output_type": "stream",
     "text": [
      "train data: \n",
      "\n",
      "RMSE: 0.43588989435406733\n",
      "R2: 0.9774279774279774\n",
      "\n",
      "test data: \n",
      "\n",
      "RMSE: 1.3564659966250536\n",
      "R2: 0.7698388872210548\n"
     ]
    }
   ],
   "source": [
    "from sklearn.metrics import mean_squared_error, r2_score\n",
    "\n",
    "pred_train = model.predict(X_train)\n",
    "pred_test = model.predict(X_test)\n",
    "\n",
    "print('train data: \\n')\n",
    "print(f'RMSE: {mean_squared_error(pred_train, y_train, squared=False)}')\n",
    "print(f'R2: {r2_score(pred_train, y_train)}')\n",
    "print('\\ntest data: \\n')\n",
    "print(f'RMSE: {mean_squared_error(pred_test, y_test, squared=False)}')\n",
    "print(f'R2: {r2_score(pred_test, y_test)}')"
   ]
  },
  {
   "cell_type": "markdown",
   "metadata": {
    "id": "DTfFICLZNPhZ"
   },
   "source": [
    "## Улучшение качества с помощью полиномиальной модели"
   ]
  },
  {
   "cell_type": "code",
   "execution_count": 12,
   "metadata": {
    "colab": {
     "base_uri": "https://localhost:8080/"
    },
    "id": "KN5ZkiOeZRhm",
    "outputId": "61ae1a92-df30-4a20-aafd-8304d929999e"
   },
   "outputs": [
    {
     "name": "stderr",
     "output_type": "stream",
     "text": [
      "/usr/local/lib/python3.7/dist-packages/sklearn/linear_model/_logistic.py:818: ConvergenceWarning: lbfgs failed to converge (status=1):\n",
      "STOP: TOTAL NO. of ITERATIONS REACHED LIMIT.\n",
      "\n",
      "Increase the number of iterations (max_iter) or scale the data as shown in:\n",
      "    https://scikit-learn.org/stable/modules/preprocessing.html\n",
      "Please also refer to the documentation for alternative solver options:\n",
      "    https://scikit-learn.org/stable/modules/linear_model.html#logistic-regression\n",
      "  extra_warning_msg=_LOGISTIC_SOLVER_CONVERGENCE_MSG,\n"
     ]
    },
    {
     "data": {
      "text/plain": [
       "Pipeline(steps=[('polynomialfeatures', PolynomialFeatures()),\n",
       "                ('logisticregression', LogisticRegression())])"
      ]
     },
     "execution_count": 12,
     "metadata": {},
     "output_type": "execute_result"
    }
   ],
   "source": [
    "from sklearn.preprocessing import PolynomialFeatures\n",
    "from sklearn.pipeline import make_pipeline\n",
    "\n",
    "pipe = make_pipeline(PolynomialFeatures(degree=2), LogisticRegression())\n",
    "pipe.fit(X_train, y_train)"
   ]
  },
  {
   "cell_type": "markdown",
   "metadata": {
    "id": "7B5OTS2bJAXV"
   },
   "source": [
    "## Валидация"
   ]
  },
  {
   "cell_type": "code",
   "execution_count": 13,
   "metadata": {
    "colab": {
     "base_uri": "https://localhost:8080/"
    },
    "id": "XdqsahjRace_",
    "outputId": "ab134e99-d608-4cdb-e97a-a54468535d89"
   },
   "outputs": [
    {
     "name": "stdout",
     "output_type": "stream",
     "text": [
      "train data: \n",
      "\n",
      "RMSE: 0.0\n",
      "R2: 1.0\n",
      "\n",
      "test data: \n",
      "\n",
      "RMSE: 1.0908712114635715\n",
      "R2: 0.8487448363520813\n"
     ]
    }
   ],
   "source": [
    "from sklearn.metrics import mean_squared_error, r2_score\n",
    "\n",
    "pred_train = pipe.predict(X_train)\n",
    "pred_test = pipe.predict(X_test)\n",
    "\n",
    "print('train data: \\n')\n",
    "print(f'RMSE: {mean_squared_error(pred_train, y_train, squared=False)}')\n",
    "print(f'R2: {r2_score(pred_train, y_train)}')\n",
    "print('\\ntest data: \\n')\n",
    "print(f'RMSE: {mean_squared_error(pred_test, y_test, squared=False)}')\n",
    "print(f'R2: {r2_score(pred_test, y_test)}')"
   ]
  },
  {
   "cell_type": "markdown",
   "metadata": {
    "id": "3BLjmwYLMvpP"
   },
   "source": [
    "## Сделайте выводы"
   ]
  },
  {
   "cell_type": "markdown",
   "metadata": {
    "id": "doBQ6X2J23pJ"
   },
   "source": [
    "# Дополнительные материалы\n",
    "1. Масштабирование данных https://youtu.be/XsuCOfpf8Ic\n",
    "2. Реализация линейной регрессии https://youtu.be/KJA9A1q9l7E\n"
   ]
  }
 ],
 "metadata": {
  "accelerator": "TPU",
  "colab": {
   "collapsed_sections": [],
   "provenance": []
  },
  "kernelspec": {
   "display_name": "Python 3 (ipykernel)",
   "language": "python",
   "name": "python3"
  },
  "language_info": {
   "codemirror_mode": {
    "name": "ipython",
    "version": 3
   },
   "file_extension": ".py",
   "mimetype": "text/x-python",
   "name": "python",
   "nbconvert_exporter": "python",
   "pygments_lexer": "ipython3",
   "version": "3.9.13"
  }
 },
 "nbformat": 4,
 "nbformat_minor": 1
}
